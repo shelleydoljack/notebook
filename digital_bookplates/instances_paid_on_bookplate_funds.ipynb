{
 "cells": [
  {
   "cell_type": "code",
   "execution_count": 2,
   "id": "31f5348c-4c78-441b-8b67-ec8c9bcb9f65",
   "metadata": {},
   "outputs": [],
   "source": [
    "import os\n",
    "\n",
    "from folioclient import FolioClient\n",
    "\n",
    "okapi_url = os.getenv(\"OKAPI_URL\")\n",
    "user = os.getenv(\"OKAPI_USER\")\n",
    "password = os.getenv(\"OKAPI_PASSWORD\")\n",
    "tenant = os.getenv(\"TENANT\")\n",
    "\n",
    "folio_client = FolioClient(\n",
    "    okapi_url,\n",
    "    tenant,\n",
    "    user,\n",
    "    password)"
   ]
  },
  {
   "cell_type": "code",
   "execution_count": null,
   "id": "94ad0843-6ddb-4b26-997a-8656d6d0e7ba",
   "metadata": {},
   "outputs": [],
   "source": [
    "query_params = {'fiscalYearId': '200bfabe-07c7-4deb-b54e-99d64a3435cb'}"
   ]
  },
  {
   "cell_type": "code",
   "execution_count": 7,
   "id": "e81bdeff-de9c-4e79-a8c6-0418e9d81b54",
   "metadata": {},
   "outputs": [],
   "source": [
    "response = folio_client.folio_get(\"/finance/transactions\", query=\"?query=((fiscalYearId=200bfabe-07c7-4deb-b54e-99d64a3435cb and (fromFundId=3eb86c5f-c77b-4cc9-8f29-7de7ce313411 or toFundId=3eb86c5f-c77b-4cc9-8f29-7de7ce313411)) and source==\\\"Invoice\\\") sortby transactionDate/sort.descending\")"
   ]
  },
  {
   "cell_type": "code",
   "execution_count": 8,
   "id": "5856ea5f-77a3-44ee-8a2e-d84fc90cb849",
   "metadata": {},
   "outputs": [
    {
     "name": "stdout",
     "output_type": "stream",
     "text": [
      "{'transactions': [{'id': '3162c4f8-4cfa-4717-869b-10a05fd4b10f', '_version': 1, 'amount': 27.28, 'currency': 'USD', 'fiscalYearId': '200bfabe-07c7-4deb-b54e-99d64a3435cb', 'fromFundId': '3eb86c5f-c77b-4cc9-8f29-7de7ce313411', 'paymentEncumbranceId': '71d22ab7-0ad8-4be9-84c3-b53002fdc1c0', 'source': 'Invoice', 'sourceInvoiceId': '0db6930a-0654-45dd-ae65-86fa915b18a3', 'sourceInvoiceLineId': '0b9ae0fa-792f-4db2-9254-648dfb185bb8', 'transactionType': 'Payment', 'metadata': {'createdDate': '2024-07-24T01:03:08.381+00:00', 'createdByUserId': '07e8be0e-1cf5-5061-b5b3-4517d9a74d77', 'updatedDate': '2024-07-24T01:03:08.381+00:00', 'updatedByUserId': '07e8be0e-1cf5-5061-b5b3-4517d9a74d77'}}, {'id': 'f053724f-5c4d-49c4-ab07-9dc300f9d1a6', '_version': 1, 'amount': 91.45, 'currency': 'USD', 'fiscalYearId': '200bfabe-07c7-4deb-b54e-99d64a3435cb', 'fromFundId': '3eb86c5f-c77b-4cc9-8f29-7de7ce313411', 'paymentEncumbranceId': '369fba7d-3f82-4aff-b00b-f1a7086df7a6', 'source': 'Invoice', 'sourceInvoiceId': 'ed22985e-dddb-48ea-8ab8-8c1621d95c55', 'sourceInvoiceLineId': 'd2954121-7364-4ba2-aa07-05a97c957032', 'transactionType': 'Payment', 'metadata': {'createdDate': '2024-02-14T02:06:57.622+00:00', 'createdByUserId': '07e8be0e-1cf5-5061-b5b3-4517d9a74d77', 'updatedDate': '2024-02-14T02:06:57.622+00:00', 'updatedByUserId': '07e8be0e-1cf5-5061-b5b3-4517d9a74d77'}}, {'id': '4cec84e8-2cb3-4edc-9dc0-a120dca5bc9e', '_version': 1, 'amount': 96.74, 'currency': 'USD', 'fiscalYearId': '200bfabe-07c7-4deb-b54e-99d64a3435cb', 'fromFundId': '3eb86c5f-c77b-4cc9-8f29-7de7ce313411', 'paymentEncumbranceId': '7db654d0-eabc-4816-9071-c279264d6442', 'source': 'Invoice', 'sourceInvoiceId': 'b51918b8-8665-4038-a13a-0267e96ea2c0', 'sourceInvoiceLineId': '76d19107-b65a-408c-ad3a-3b0c10c0c0ac', 'transactionType': 'Payment', 'metadata': {'createdDate': '2024-03-22T01:04:30.826+00:00', 'createdByUserId': '07e8be0e-1cf5-5061-b5b3-4517d9a74d77', 'updatedDate': '2024-03-22T01:04:30.826+00:00', 'updatedByUserId': '07e8be0e-1cf5-5061-b5b3-4517d9a74d77'}}, {'id': '33cee5b4-3092-4c68-bcc6-64fc4223b038', '_version': 1, 'amount': 1225.81, 'currency': 'USD', 'fiscalYearId': '200bfabe-07c7-4deb-b54e-99d64a3435cb', 'fromFundId': '3eb86c5f-c77b-4cc9-8f29-7de7ce313411', 'paymentEncumbranceId': '81bfcbe0-b324-49e1-b37e-5a726bae9508', 'source': 'Invoice', 'sourceInvoiceId': 'b89b74aa-1b87-40dc-8cf8-519ab05daa79', 'sourceInvoiceLineId': '28d90309-af31-484d-977c-ab45666665f7', 'transactionType': 'Payment', 'metadata': {'createdDate': '2024-02-06T02:27:53.729+00:00', 'createdByUserId': '58d0aaf6-dcda-4d5e-92da-012e6b7dd766', 'updatedDate': '2024-02-06T02:27:53.729+00:00', 'updatedByUserId': '58d0aaf6-dcda-4d5e-92da-012e6b7dd766'}}, {'id': 'e125dbeb-0ab2-4d7a-a5c7-f0c68615e3c8', '_version': 1, 'amount': 658.63, 'currency': 'USD', 'fiscalYearId': '200bfabe-07c7-4deb-b54e-99d64a3435cb', 'fromFundId': '3eb86c5f-c77b-4cc9-8f29-7de7ce313411', 'paymentEncumbranceId': '0260540f-4960-4e7e-9759-0d0a9fac4a91', 'source': 'Invoice', 'sourceInvoiceId': 'de5ec075-fbcf-4ea9-bd29-af2b5318eada', 'sourceInvoiceLineId': 'd384cf0f-dfbf-44ef-a88c-3b1776b3a999', 'transactionType': 'Payment', 'metadata': {'createdDate': '2024-02-06T16:12:22.251+00:00', 'createdByUserId': '58d0aaf6-dcda-4d5e-92da-012e6b7dd766', 'updatedDate': '2024-02-06T16:12:22.251+00:00', 'updatedByUserId': '58d0aaf6-dcda-4d5e-92da-012e6b7dd766'}}, {'id': '96ca366f-d810-4a1d-aa08-c988afe19723', '_version': 1, 'amount': 117.73, 'currency': 'USD', 'fiscalYearId': '200bfabe-07c7-4deb-b54e-99d64a3435cb', 'fromFundId': '3eb86c5f-c77b-4cc9-8f29-7de7ce313411', 'paymentEncumbranceId': 'b6208d8a-e056-4918-adb0-104ba9e471d2', 'source': 'Invoice', 'sourceInvoiceId': '2dcebfd3-82b0-429d-afbb-dff743602bea', 'sourceInvoiceLineId': '5c6cffcf-1951-47c9-817f-145cbe931dea', 'transactionType': 'Payment', 'metadata': {'createdDate': '2024-01-11T18:56:26.382+00:00', 'createdByUserId': '07e8be0e-1cf5-5061-b5b3-4517d9a74d77', 'updatedDate': '2024-01-11T18:56:26.382+00:00', 'updatedByUserId': '07e8be0e-1cf5-5061-b5b3-4517d9a74d77'}}, {'id': 'e79b2a19-03d9-413e-8251-5a6d69d2aa40', '_version': 1, 'amount': 229.86, 'currency': 'USD', 'fiscalYearId': '200bfabe-07c7-4deb-b54e-99d64a3435cb', 'fromFundId': '3eb86c5f-c77b-4cc9-8f29-7de7ce313411', 'paymentEncumbranceId': 'cfb59e90-014a-4860-9f5e-bdcfbf1a9f6f', 'source': 'Invoice', 'sourceInvoiceId': '29f339e3-dfdc-43e4-9442-eb817fdfb069', 'sourceInvoiceLineId': 'cb0baa2d-7dd7-4986-8dc7-4909bbc18ce6', 'transactionType': 'Payment', 'metadata': {'createdDate': '2024-01-11T19:02:54.541+00:00', 'createdByUserId': '07e8be0e-1cf5-5061-b5b3-4517d9a74d77', 'updatedDate': '2024-01-11T19:02:54.541+00:00', 'updatedByUserId': '07e8be0e-1cf5-5061-b5b3-4517d9a74d77'}}, {'id': 'b8b6de53-9fb6-44ce-994a-4c7e61ec0d7a', '_version': 1, 'amount': 138.71, 'currency': 'USD', 'fiscalYearId': '200bfabe-07c7-4deb-b54e-99d64a3435cb', 'fromFundId': '3eb86c5f-c77b-4cc9-8f29-7de7ce313411', 'paymentEncumbranceId': '3bcedec1-253e-402a-ad6b-17756e90de29', 'source': 'Invoice', 'sourceInvoiceId': '6ac1f578-9f59-4937-ab81-d45dcfdb40b0', 'sourceInvoiceLineId': '3676f5ad-e22b-487e-b621-c15f441b0186', 'transactionType': 'Payment', 'metadata': {'createdDate': '2024-01-11T19:10:14.362+00:00', 'createdByUserId': '07e8be0e-1cf5-5061-b5b3-4517d9a74d77', 'updatedDate': '2024-01-11T19:10:14.362+00:00', 'updatedByUserId': '07e8be0e-1cf5-5061-b5b3-4517d9a74d77'}}, {'id': '9cfa68a7-9019-4923-92ee-539346ea6121', '_version': 1, 'amount': 180.07, 'currency': 'USD', 'fiscalYearId': '200bfabe-07c7-4deb-b54e-99d64a3435cb', 'fromFundId': '3eb86c5f-c77b-4cc9-8f29-7de7ce313411', 'paymentEncumbranceId': '44d8a381-d821-42ee-815f-883b3901bc47', 'source': 'Invoice', 'sourceInvoiceId': '05085009-5c2e-495f-9f5a-0764600c56ef', 'sourceInvoiceLineId': 'e0cf3343-121b-46fa-9253-c56b856c938b', 'transactionType': 'Payment', 'metadata': {'createdDate': '2024-02-23T02:02:13.944+00:00', 'createdByUserId': '07e8be0e-1cf5-5061-b5b3-4517d9a74d77', 'updatedDate': '2024-02-23T02:02:13.944+00:00', 'updatedByUserId': '07e8be0e-1cf5-5061-b5b3-4517d9a74d77'}}, {'id': '4e91ffa9-0079-4c05-98ad-31e3bd79fadd', '_version': 1, 'amount': 17.63, 'currency': 'USD', 'fiscalYearId': '200bfabe-07c7-4deb-b54e-99d64a3435cb', 'fromFundId': '3eb86c5f-c77b-4cc9-8f29-7de7ce313411', 'paymentEncumbranceId': '69293d62-a953-4455-becd-51c9f17040af', 'source': 'Invoice', 'sourceInvoiceId': 'c8d68712-e2ba-471c-a210-abb676ab6c0e', 'sourceInvoiceLineId': '6bcc942c-962c-4443-98ee-2d48b9ee5d1e', 'transactionType': 'Payment', 'metadata': {'createdDate': '2024-07-12T01:10:27.711+00:00', 'createdByUserId': '07e8be0e-1cf5-5061-b5b3-4517d9a74d77', 'updatedDate': '2024-07-12T01:10:27.711+00:00', 'updatedByUserId': '07e8be0e-1cf5-5061-b5b3-4517d9a74d77'}}], 'totalRecords': 23}\n"
     ]
    }
   ],
   "source": [
    "print(response)"
   ]
  },
  {
   "cell_type": "code",
   "execution_count": null,
   "id": "783ac503-cafa-4544-9b12-acb758c87f76",
   "metadata": {},
   "outputs": [],
   "source": []
  }
 ],
 "metadata": {
  "kernelspec": {
   "display_name": "Python 3 (ipykernel)",
   "language": "python",
   "name": "python3"
  },
  "language_info": {
   "codemirror_mode": {
    "name": "ipython",
    "version": 3
   },
   "file_extension": ".py",
   "mimetype": "text/x-python",
   "name": "python",
   "nbconvert_exporter": "python",
   "pygments_lexer": "ipython3",
   "version": "3.11.7"
  }
 },
 "nbformat": 4,
 "nbformat_minor": 5
}
