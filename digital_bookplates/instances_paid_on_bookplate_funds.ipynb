{
 "cells": [
  {
   "cell_type": "code",
   "execution_count": 1,
   "id": "31f5348c-4c78-441b-8b67-ec8c9bcb9f65",
   "metadata": {},
   "outputs": [],
   "source": [
    "import os\n",
    "\n",
    "from folioclient import FolioClient\n",
    "\n",
    "okapi_url = os.getenv(\"OKAPI_URL\")\n",
    "user = os.getenv(\"OKAPI_USER\")\n",
    "password = os.getenv(\"OKAPI_PASSWORD\")\n",
    "tenant = os.getenv(\"TENANT\")\n",
    "\n",
    "folio_client = FolioClient(\n",
    "    okapi_url,\n",
    "    tenant,\n",
    "    user,\n",
    "    password)"
   ]
  },
  {
   "cell_type": "code",
   "execution_count": 4,
   "id": "606e2329-ae1c-4016-83d0-802230dde968",
   "metadata": {},
   "outputs": [
    {
     "name": "stdout",
     "output_type": "stream",
     "text": [
      "{'id': '8527a67d-f099-4a19-b104-7cd8969569b1', '_version': 5, 'allocatedFromIds': [], 'allocatedToIds': [], 'code': 'ASULRES-SUL', 'description': 'ALT FUND: RESMAT', 'fundStatus': 'Active', 'fundTypeId': 'e228d3cd-c0bc-4089-89eb-0ce100278327', 'ledgerId': 'a0d6c701-c316-48d4-bac9-76a34103a3c9', 'name': 'ASULRES', 'acqUnitIds': ['bd6c5f05-9ab3-41f7-8361-1c1e847196d3'], 'tags': {'tagList': ['sulacq:funds:moderate_restricted']}, 'metadata': {'createdDate': '2023-08-14T17:22:11.326+00:00', 'createdByUserId': '58d0aaf6-dcda-4d5e-92da-012e6b7dd766', 'updatedDate': '2024-07-03T06:22:05.115+00:00', 'updatedByUserId': 'b296db77-f6c8-44fb-b16d-2281a9f37b01'}}\n"
     ]
    }
   ],
   "source": [
    "folio_funds = folio_client.folio_get(\n",
    "         \"/finance-storage/funds\", key=\"funds\", query_params={\"limit\": 2999}\n",
    "     )\n",
    "fund = folio_funds[0]\n",
    "fund.pop(\"externalAccountNo\", None)\n",
    "print(fund)"
   ]
  },
  {
   "cell_type": "markdown",
   "id": "e5e7ee96-1bd2-4598-ad6e-4469ebf0ebfb",
   "metadata": {},
   "source": [
    "## Path 1: Use payment transactions to start\n",
    "**FOLIO UI uses this query:**\n",
    "```\n",
    "query=\"?query=((fiscalYearId=200bfabe-07c7-4deb-b54e-99d64a3435cb and (fromFundId=3eb86c5f-c77b-4cc9-8f29-7de7ce313411 or toFundId=3eb86c5f-c77b-4cc9-8f29-7de7ce313411)) and transactionType==\\\"Payment\\\") sortby transactionDate/sort.descending\"\n",
    "```\n",
    "\n",
    "We don't need to limit by fiscal year."
   ]
  },
  {
   "cell_type": "code",
   "execution_count": 5,
   "id": "cadf73bb-47bc-4eb9-ac00-cea01dadc849",
   "metadata": {},
   "outputs": [
    {
     "name": "stdout",
     "output_type": "stream",
     "text": [
      "20\n"
     ]
    }
   ],
   "source": [
    "query=\"?query=((fiscalYearId=200bfabe-07c7-4deb-b54e-99d64a3435cb and (fromFundId=3eb86c5f-c77b-4cc9-8f29-7de7ce313411 or toFundId=3eb86c5f-c77b-4cc9-8f29-7de7ce313411)) and transactionType==\\\"Payment\\\") sortby transactionDate/sort.descending\"\n",
    "ui_response = folio_client.folio_get(\"/finance/transactions\", query=query)\n",
    "print(ui_response['totalRecords'])"
   ]
  },
  {
   "cell_type": "markdown",
   "id": "3c2557bc-7df3-4327-8775-50f44c27c986",
   "metadata": {},
   "source": [
    "**Get all payment transactions for a digital bookplate fund**\n",
    "\n",
    "transactionType=Payment\n",
    "\n",
    "fund ID = UUID of fund"
   ]
  },
  {
   "cell_type": "code",
   "execution_count": 6,
   "id": "94ad0843-6ddb-4b26-997a-8656d6d0e7ba",
   "metadata": {},
   "outputs": [
    {
     "name": "stdout",
     "output_type": "stream",
     "text": [
      "21\n"
     ]
    }
   ],
   "source": [
    "query = {'query':'transactionType=Payment and (fromFundId=3eb86c5f-c77b-4cc9-8f29-7de7ce313411 or toFundId=3eb86c5f-c77b-4cc9-8f29-7de7ce313411)'}\n",
    "total_transactions = folio_client.folio_get(\"/finance/transactions\", query_params=query, key=\"totalRecords\")\n",
    "print(total_transactions)"
   ]
  },
  {
   "cell_type": "markdown",
   "id": "786a494a-7cff-42c5-bd41-be7edceca709",
   "metadata": {},
   "source": [
    "**Using folio_get_all function to get all transactions**\n",
    "\n",
    "folio_get_all cannot take a dict for the query. You must pass a string for query."
   ]
  },
  {
   "cell_type": "code",
   "execution_count": 7,
   "id": "a53de984-a632-4b4a-89c7-6384d21cb057",
   "metadata": {},
   "outputs": [],
   "source": [
    "query = \"?query=transactionType==Payment and (fromFundId=3eb86c5f-c77b-4cc9-8f29-7de7ce313411 or toFundId=3eb86c5f-c77b-4cc9-8f29-7de7ce313411)\"\n",
    "transactions = folio_client.folio_get_all(\"/finance/transactions\", key=\"transactions\", query=query, limit=999)"
   ]
  },
  {
   "cell_type": "markdown",
   "id": "de95ce1f-6dd9-4016-b556-a3b0627e17b1",
   "metadata": {},
   "source": [
    "**Get the invoice line ID from the transaction**"
   ]
  },
  {
   "cell_type": "code",
   "execution_count": 8,
   "id": "783ac503-cafa-4544-9b12-acb758c87f76",
   "metadata": {},
   "outputs": [
    {
     "name": "stdout",
     "output_type": "stream",
     "text": [
      "20\n"
     ]
    }
   ],
   "source": [
    "invoice_lines = []\n",
    "for x in transactions:\n",
    "    # print(x)\n",
    "    invoice_lines.append(x['sourceInvoiceLineId'])\n",
    "\n",
    "print(len(invoice_lines))\n",
    "# print(invoice_lines)"
   ]
  },
  {
   "cell_type": "markdown",
   "id": "3a046ff6-b58d-4e35-9974-89e1ee14722d",
   "metadata": {},
   "source": [
    "**Get the PO line ID from the invoice line**\n",
    "\n",
    "Not all invoice lines will have a po line. For instance, if the invoice line is for SHIPPING."
   ]
  },
  {
   "cell_type": "code",
   "execution_count": 9,
   "id": "a44f3634-1026-44ce-880e-14bb6e145193",
   "metadata": {},
   "outputs": [
    {
     "name": "stdout",
     "output_type": "stream",
     "text": [
      "18\n"
     ]
    }
   ],
   "source": [
    "transactions_query_po_lines = []\n",
    "for x in invoice_lines:\n",
    "    invoice_line = folio_client.folio_get(f\"/invoice/invoice-lines/{x}\")\n",
    "    #print(invoice_line)\n",
    "    po_line_id = invoice_line.get('poLineId')\n",
    "    if po_line_id is not None:\n",
    "        transactions_query_po_lines.append(po_line_id)\n",
    "\n",
    "print(len(transactions_query_po_lines))\n",
    "# print(transactions_query_po_lines)"
   ]
  },
  {
   "cell_type": "markdown",
   "id": "e02aa0c8-9c23-4836-8138-56917e68abfd",
   "metadata": {},
   "source": [
    "Maybe we don't need to start at transactions because we can query invoice lines on paid invoices with fund distributions for each of the digital bookplate funds."
   ]
  },
  {
   "cell_type": "markdown",
   "id": "4b0bd680-8b54-4c29-8a7f-c032043ff95a",
   "metadata": {},
   "source": [
    "# Start with invoice UUID paid within date range"
   ]
  },
  {
   "cell_type": "code",
   "execution_count": 10,
   "id": "086d612b-5ddb-49e8-b3b9-cee425ec40a4",
   "metadata": {},
   "outputs": [
    {
     "name": "stdout",
     "output_type": "stream",
     "text": [
      "['9cf2899a-c7a6-4101-bf8e-c5996ded5fd1', '02e89573-8dda-46ad-8142-4ad9f37463f5', '255cb8af-74b6-4943-87dc-30d81efb81b1']\n"
     ]
    }
   ],
   "source": [
    "from_date = \"2023-08-28\"\n",
    "to_date = \"2023-09-01\"\n",
    "query = f\"\"\"?query=((paymentDate>={from_date} and paymentDate<={to_date}) and status==\"Paid\")\"\"\"\n",
    "invoices = folio_client.folio_get_all(\"/invoice/invoices\", key=\"invoices\", query=query, limit=500)\n",
    "# print([row.get(\"id\") for row in invoices])\n",
    "invoice_ids = []\n",
    "for row in invoices:\n",
    "    invoice_ids.append(row[\"id\"])\n",
    "\n",
    "print(invoice_ids)"
   ]
  },
  {
   "cell_type": "markdown",
   "id": "216243b3-d092-47d6-a32c-73fa3450185b",
   "metadata": {},
   "source": [
    "**Get invoice lines from invoice uuids**"
   ]
  },
  {
   "cell_type": "code",
   "execution_count": 11,
   "id": "717de0b3-284f-4462-b59d-ad4839a2d7d7",
   "metadata": {},
   "outputs": [
    {
     "name": "stdout",
     "output_type": "stream",
     "text": [
      "Getting invoice lines for 9cf2899a-c7a6-4101-bf8e-c5996ded5fd1\n",
      "Getting invoice lines for 02e89573-8dda-46ad-8142-4ad9f37463f5\n",
      "Getting invoice lines for 255cb8af-74b6-4943-87dc-30d81efb81b1\n",
      "[{'fadacf66-8813-4759-b4d3-7d506db38f48': {'fund_ids': ['0e8804ca-0190-4a98-a88d-83ae77a0f8e3'], 'poline_id': 'b5ba6538-7e04-4be3-8a0e-c68306c355a2'}}, {'a16030c1-66ca-44c1-b0a3-572cde626685': {'fund_ids': ['47e1fc24-300d-4817-a866-5c0a2f490522'], 'poline_id': '5513c3d7-7c6b-45ea-a875-09798b368873'}}, {'99340beb-9bf5-401c-8f99-91ff19464087': {'fund_ids': ['47e1fc24-300d-4817-a866-5c0a2f490522'], 'poline_id': None}}, {'e2363b0c-1a82-40b2-8601-efa5d8ebc859': {'fund_ids': ['47e1fc24-300d-4817-a866-5c0a2f490522'], 'poline_id': '0e6796b4-498a-45e7-bf2d-696f79c77a5d'}}]\n"
     ]
    }
   ],
   "source": [
    "all_invoice_lines = []\n",
    "for id in invoice_ids:\n",
    "    print(f\"Getting invoice lines for {id}\")\n",
    "    query = f\"\"\"?query=(invoiceId=={id})\"\"\"\n",
    "    invoice_lines = folio_client.folio_get_all(\"/invoice/invoice-lines\", key=\"invoiceLines\", query=query, limit=500)\n",
    "    # print([row for row in invoice_lines])\n",
    "    for row in invoice_lines:\n",
    "        all_invoice_lines.append(row)\n",
    "\n",
    "# print(all_invoice_lines)\n",
    "\n",
    "invoice_lines_funds_polines = []\n",
    "for row in all_invoice_lines:\n",
    "    fund_poline = {\n",
    "        \"fund_ids\": None,\n",
    "        \"poline_id\": None\n",
    "    }\n",
    "    fund_ids = []\n",
    "    fund_ids = [x[\"fundId\"] for x in row.get(\"fundDistributions\")]\n",
    "    fund_poline[\"fund_ids\"] = fund_ids\n",
    "    poline_id = row.get(\"poLineId\")\n",
    "    if poline_id is not None:\n",
    "        fund_poline[\"poline_id\"] = poline_id\n",
    "\n",
    "    lines_funds_polines = {}\n",
    "    lines_funds_polines[row[\"id\"]] = fund_poline\n",
    "    invoice_lines_funds_polines.append(lines_funds_polines)\n",
    "    \n",
    "print(invoice_lines_funds_polines)\n",
    "        "
   ]
  },
  {
   "cell_type": "markdown",
   "id": "4f5858cf-6bce-4f4c-b725-8dc31faeb999",
   "metadata": {},
   "source": [
    "## Path 2: Use invoice lines to start"
   ]
  },
  {
   "cell_type": "code",
   "execution_count": 12,
   "id": "b5d4667f-c150-427d-b842-34b29f964b47",
   "metadata": {},
   "outputs": [],
   "source": [
    "query = \"?query=fundDistributions==\\\"*3eb86c5f-c77b-4cc9-8f29-7de7ce313411*\\\" and invoiceLineStatus==\\\"Paid\\\"\"\n",
    "invoice_lines = folio_client.folio_get_all(\"/invoice/invoice-lines\", key=\"invoiceLines\", query=query, limit=999)"
   ]
  },
  {
   "cell_type": "code",
   "execution_count": 13,
   "id": "410ee157-7a9a-4671-8014-b757e83233a9",
   "metadata": {},
   "outputs": [
    {
     "name": "stdout",
     "output_type": "stream",
     "text": [
      "20\n",
      "['13e05f54-343e-4daf-acf9-3ae6fc66f5e1', '7a5888fe-689b-4cfe-a27d-c2675a235203', 'be0af62c-665e-4178-ae13-e3250d89bcc6', 'e8cef55e-2bdc-4c1c-980d-3c66e493798b', 'c18b9e40-ad39-40dd-b918-1bd2b999fdaf', '798596da-12a6-4c6d-8d3a-3bb6c54cb2f1', '5dc4cfb3-a86f-4cfe-86f9-949fbe84aa17', '2fb3c6ce-4541-4c19-8e16-d8ed6dd7a9f9', '9047a74c-1057-4ddb-b52d-d01429b0b450', 'd55342ce-0a33-4aa2-87c6-5ad6e1a12b75', 'c18b9e40-ad39-40dd-b918-1bd2b999fdaf', 'e399f1e9-6d10-4116-98d4-e7d192a00e57', '13e05f54-343e-4daf-acf9-3ae6fc66f5e1', '1d45bbb7-63e1-47e9-9b45-75a06f2c7590', 'e8cef55e-2bdc-4c1c-980d-3c66e493798b', '87319dc7-a5ea-4380-9b99-b02ec15638ed', '39bbf04f-e729-4681-b805-bff3e4b933ac', 'c3159ebb-7d49-4eee-933a-7a63636e4750', '24491205-2f0c-4034-bdbb-f715d0410780', '08ad0d3a-a906-4bf7-8dc5-28cf3964daae']\n"
     ]
    }
   ],
   "source": [
    "invoices_query_po_lines = []\n",
    "for x in invoice_lines:\n",
    "    invoice_line_id = x['id']\n",
    "    invoice_line = folio_client.folio_get(f\"/invoice/invoice-lines/{invoice_line_id}\")\n",
    "    # print(invoice_line)\n",
    "    po_line_id = invoice_line.get('poLineId')\n",
    "    if po_line_id is not None:\n",
    "        invoices_query_po_lines.append(po_line_id)\n",
    "\n",
    "print(len(invoices_query_po_lines))\n",
    "print(invoices_query_po_lines)\n",
    "    "
   ]
  },
  {
   "cell_type": "markdown",
   "id": "dacb21bd-a0eb-4661-b4f4-f15a45dfdd0c",
   "metadata": {},
   "source": [
    "There really should not be a difference in the number of po lines we get from querying the transactions endpoint versus the invoice lines endpoint. If there is, then it is likely the query is not being passed correctly to okapi."
   ]
  },
  {
   "cell_type": "code",
   "execution_count": 14,
   "id": "ee21aa36-de8a-4c58-9487-cf5df4ebdc4c",
   "metadata": {},
   "outputs": [
    {
     "name": "stdout",
     "output_type": "stream",
     "text": [
      "[]\n",
      "[]\n"
     ]
    }
   ],
   "source": [
    "# print(\"PO Lines from paid transactions via invoice lines:\", sorted(transactions_query_po_lines))\n",
    "# print(\"PO Lines from paid invoices' invoice lines:\", sorted(invoices_query_po_lines))\n",
    "def diff(first, second):\n",
    "        second = set(second)\n",
    "        return [item for item in first if item not in second]\n",
    "\n",
    "additional_po_lines_from_transactions = diff(transactions_query_po_lines, invoices_query_po_lines)\n",
    "print(additional_po_lines_from_transactions)\n",
    "additional_po_lines_from_invoice_lines = diff(invoices_query_po_lines, transactions_query_po_lines)\n",
    "print(additional_po_lines_from_invoice_lines)"
   ]
  },
  {
   "cell_type": "markdown",
   "id": "66e8e149-9ed2-40f4-80ec-15b3df32ea20",
   "metadata": {},
   "source": [
    "## Get paid invoices in paymentDate range"
   ]
  },
  {
   "cell_type": "code",
   "execution_count": 15,
   "id": "7c8557ec-26c1-4a0e-9236-08d8d205f7a5",
   "metadata": {},
   "outputs": [],
   "source": [
    "from_date = \"2023-08-28T00:00:00+00:00\"\n",
    "query = f\"\"\"?query=((paymentDate>={from_date}) and status==\"Paid\")\"\"\"\n",
    "# print(query)\n",
    "invoices = folio_client.folio_get_all(\"/invoice/invoices\", key=\"invoices\", query=query, limit=999)\n",
    "# for row in invoices:\n",
    "#     print(row['id'])\n",
    "# print([row.get(\"id\") for row in invoices])\n",
    "\n"
   ]
  },
  {
   "cell_type": "markdown",
   "id": "f443ffdc-1d48-4953-8208-7540ae1cec27",
   "metadata": {},
   "source": [
    "## Get the instance ID from PO lines\n",
    "Some of the po lines don't have an instance ID because they are for a package. Example: https://folio.stanford.edu/orders/lines/view/9047a74c-1057-4ddb-b52d-d01429b0b450?limit=50&offset=0&qindex=poLineNumber&query=55487-1\n",
    "\n",
    "Outstanding question about what to do with these (report out?)."
   ]
  },
  {
   "cell_type": "code",
   "execution_count": 16,
   "id": "156bae17-93ef-4182-af24-7006fbbaa84d",
   "metadata": {},
   "outputs": [
    {
     "name": "stdout",
     "output_type": "stream",
     "text": [
      "06660d4f-982d-54e8-b34c-532c268868e1\n",
      "0a97a746-87ce-58f1-bb61-ffe47b39aff8\n",
      "a5a1b279-1a00-5af2-9bbb-b5657fa15078\n",
      "772fe534-028f-5579-b2b0-7079f404cd88\n",
      "1cb88f99-5c59-55e8-a834-e45a6a95f778\n",
      "242c6000-8485-5fcd-9b5e-adb60788ca59\n",
      "98f6a7fa-21af-5b08-834b-3f7e97457834\n",
      "0991463f-5be0-544b-a827-ffc628594a50\n",
      "PO Line 55487-1 not linked to a folio Instance record.\n",
      "0410d399-b34d-5830-85d5-ce815dbb3c5d\n",
      "1cb88f99-5c59-55e8-a834-e45a6a95f778\n",
      "947cd292-a543-5ba7-b5b2-59f9e2523b1e\n",
      "06660d4f-982d-54e8-b34c-532c268868e1\n",
      "7a465bf3-ab73-4c30-bd7b-28a7905a5b3e\n",
      "772fe534-028f-5579-b2b0-7079f404cd88\n",
      "857421b8-5704-43b2-99fd-3a5f285b3f9e\n",
      "2816efec-41a1-4d79-803a-95769f33be09\n",
      "7327db79-7f3c-42e1-9614-afe9ed1ca2a3\n",
      "e361da4f-5fbe-53d8-9fdc-7bb6ab378490\n",
      "8fcdaf3b-808e-4fde-8fa4-d3ad58363c7f\n"
     ]
    }
   ],
   "source": [
    "instances = []\n",
    "for x in invoices_query_po_lines:\n",
    "    order_line = folio_client.folio_get(f\"/orders/order-lines/{x}\")\n",
    "    instance_id = order_line.get('instanceId')\n",
    "    if instance_id is None:\n",
    "        print(f\"PO Line {order_line['poLineNumber']} not linked to a folio Instance record.\")\n",
    "    else:\n",
    "        print(instance_id)\n",
    "        instances.append(instance_id)\n",
    "\n"
   ]
  },
  {
   "cell_type": "markdown",
   "id": "e8efe8f4-d52e-4cdd-a9ea-2fc72ba04be6",
   "metadata": {},
   "source": [
    "**Get the MARC for each instance to do a PUT to add 979**\n",
    "\n",
    "Outstanding question: will the 979 be added to the marc-bib mapping for updating the instance json?\n",
    "\n",
    "We probably could refactor the [OCLCAPIWrapper class](https://github.com/sul-dlss/libsys-airflow/blob/d6b6f1c2b7b0db4b231520edd92ef814bccd3932/libsys_airflow/plugins/data_exports/oclc_api.py#L75) to do a GET to change-manager/parsedRecords since it will give us the data we need to do a PUT (SRS record ID, instance hrid). There is a relatedRecordVersion field from change-manager/parsedRecords that should be the instance version (for optimistic locking) but I think it is a new field and we do not have it populated in our data at that endpoint. It is a required field so we need to get it from inventory/instances."
   ]
  },
  {
   "cell_type": "code",
   "execution_count": 18,
   "id": "18d6190f-a5f7-4bdb-a48d-fdcc7145fee3",
   "metadata": {},
   "outputs": [
    {
     "name": "stdout",
     "output_type": "stream",
     "text": [
      "id: e60b77d3-3a76-59e2-88f7-3d1a045af3b1\n",
      "instance id: 06660d4f-982d-54e8-b34c-532c268868e1\n",
      "instance hrid: a477973\n",
      "record state: ACTUAL\n",
      "version: 3\n",
      "979 fields: [{'979': {'ind1': ' ', 'ind2': ' ', 'subfields': [{'f': 'ABBOTT'}, {'b': 'druid:ws066yy0421'}, {'c': 'ws066yy0421_00_0001.jp2'}, {'d': 'The The Donald P. Abbott Fund for Marine Invertebrates'}]}}]\n",
      "id: e51ece5e-d620-5227-babf-c32024751f6b\n",
      "instance id: 0a97a746-87ce-58f1-bb61-ffe47b39aff8\n",
      "instance hrid: a358123\n",
      "record state: ACTUAL\n",
      "version: 3\n",
      "979 fields: [{'979': {'ind1': ' ', 'ind2': ' ', 'subfields': [{'f': 'ABBOTT'}, {'b': 'druid:ws066yy0421'}, {'c': 'ws066yy0421_00_0001.jp2'}, {'d': 'The The Donald P. Abbott Fund for Marine Invertebrates'}]}}]\n",
      "id: c6aaa60d-bea2-5787-9c0a-ff6bf1c256ce\n",
      "instance id: a5a1b279-1a00-5af2-9bbb-b5657fa15078\n",
      "instance hrid: a366033\n",
      "record state: ACTUAL\n",
      "version: 91\n",
      "979 fields: [{'979': {'ind1': ' ', 'ind2': ' ', 'subfields': [{'f': 'ABBOTT'}, {'b': 'druid:ws066yy0421'}, {'c': 'ws066yy0421_00_0001.jp2'}, {'d': 'The The Donald P. Abbott Fund for Marine Invertebrates'}]}}]\n",
      "id: 7ab8a798-5a53-5154-8d3a-ffe573b640a5\n",
      "instance id: 772fe534-028f-5579-b2b0-7079f404cd88\n",
      "instance hrid: a405027\n",
      "record state: ACTUAL\n",
      "version: 3\n",
      "979 fields: [{'979': {'ind1': ' ', 'ind2': ' ', 'subfields': [{'f': 'ABBOTT'}, {'b': 'druid:ws066yy0421'}, {'c': 'ws066yy0421_00_0001.jp2'}, {'d': 'The The Donald P. Abbott Fund for Marine Invertebrates'}]}}]\n",
      "id: f20461ed-aefb-598e-a05c-b1665ae91e31\n",
      "instance id: 1cb88f99-5c59-55e8-a834-e45a6a95f778\n",
      "instance hrid: a594357\n",
      "record state: ACTUAL\n",
      "version: 11\n",
      "979 fields: [{'979': {'ind1': ' ', 'ind2': ' ', 'subfields': [{'f': 'ABBOTT'}, {'b': 'druid:ws066yy0421'}, {'c': 'ws066yy0421_00_0001.jp2'}, {'d': 'The The Donald P. Abbott Fund for Marine Invertebrates'}]}}]\n",
      "id: 589e1cd5-bf64-5724-bce7-82dc13a033fe\n",
      "instance id: 242c6000-8485-5fcd-9b5e-adb60788ca59\n",
      "instance hrid: a470860\n",
      "record state: ACTUAL\n",
      "version: 4\n",
      "979 fields: [{'979': {'ind1': ' ', 'ind2': ' ', 'subfields': [{'f': 'ABBOTT'}, {'b': 'druid:ws066yy0421'}, {'c': 'ws066yy0421_00_0001.jp2'}, {'d': 'The The Donald P. Abbott Fund for Marine Invertebrates'}]}}]\n",
      "id: 5ccb2457-86bd-5d88-9ace-61252dc11fcb\n",
      "instance id: 98f6a7fa-21af-5b08-834b-3f7e97457834\n",
      "instance hrid: a370870\n",
      "record state: ACTUAL\n",
      "version: 89\n",
      "979 fields: [{'979': {'ind1': ' ', 'ind2': ' ', 'subfields': [{'f': 'ABBOTT'}, {'b': 'druid:ws066yy0421'}, {'c': 'ws066yy0421_00_0001.jp2'}, {'d': 'The The Donald P. Abbott Fund for Marine Invertebrates'}]}}]\n",
      "id: f3e32672-8bf7-5bf1-86fc-d1cc9e572b1c\n",
      "instance id: 0991463f-5be0-544b-a827-ffc628594a50\n",
      "instance hrid: a13234007\n",
      "record state: ACTUAL\n",
      "version: 12\n",
      "979 fields: [{'979': {'ind1': ' ', 'ind2': ' ', 'subfields': [{'f': 'ABBOTT'}, {'b': 'druid:ws066yy0421'}, {'c': 'ws066yy0421_00_0001.jp2'}, {'d': 'The The Donald P. Abbott Fund for Marine Invertebrates'}]}}]\n",
      "id: ba6c4f9f-37f4-5016-b94c-3bc4f443531a\n",
      "instance id: 0410d399-b34d-5830-85d5-ce815dbb3c5d\n",
      "instance hrid: a368142\n",
      "record state: ACTUAL\n",
      "version: 4\n",
      "979 fields: [{'979': {'ind1': ' ', 'ind2': ' ', 'subfields': [{'f': 'ABBOTT'}, {'b': 'druid:ws066yy0421'}, {'c': 'ws066yy0421_00_0001.jp2'}, {'d': 'The The Donald P. Abbott Fund for Marine Invertebrates'}]}}]\n",
      "id: f20461ed-aefb-598e-a05c-b1665ae91e31\n",
      "instance id: 1cb88f99-5c59-55e8-a834-e45a6a95f778\n",
      "instance hrid: a594357\n",
      "record state: ACTUAL\n",
      "version: 11\n",
      "979 fields: [{'979': {'ind1': ' ', 'ind2': ' ', 'subfields': [{'f': 'ABBOTT'}, {'b': 'druid:ws066yy0421'}, {'c': 'ws066yy0421_00_0001.jp2'}, {'d': 'The The Donald P. Abbott Fund for Marine Invertebrates'}]}}]\n"
     ]
    },
    {
     "ename": "RemoteProtocolError",
     "evalue": "Server disconnected without sending a response.",
     "output_type": "error",
     "traceback": [
      "\u001b[0;31m---------------------------------------------------------------------------\u001b[0m",
      "\u001b[0;31mRemoteProtocolError\u001b[0m                       Traceback (most recent call last)",
      "File \u001b[0;32m~/Library/Caches/pypoetry/virtualenvs/folio-notebook-JNV-ES0s-py3.11/lib/python3.11/site-packages/httpx/_transports/default.py:60\u001b[0m, in \u001b[0;36mmap_httpcore_exceptions\u001b[0;34m()\u001b[0m\n\u001b[1;32m     59\u001b[0m \u001b[38;5;28;01mtry\u001b[39;00m:\n\u001b[0;32m---> 60\u001b[0m     \u001b[38;5;28;01myield\u001b[39;00m\n\u001b[1;32m     61\u001b[0m \u001b[38;5;28;01mexcept\u001b[39;00m \u001b[38;5;167;01mException\u001b[39;00m \u001b[38;5;28;01mas\u001b[39;00m exc:  \u001b[38;5;66;03m# noqa: PIE-786\u001b[39;00m\n",
      "File \u001b[0;32m~/Library/Caches/pypoetry/virtualenvs/folio-notebook-JNV-ES0s-py3.11/lib/python3.11/site-packages/httpx/_transports/default.py:218\u001b[0m, in \u001b[0;36mHTTPTransport.handle_request\u001b[0;34m(self, request)\u001b[0m\n\u001b[1;32m    217\u001b[0m \u001b[38;5;28;01mwith\u001b[39;00m map_httpcore_exceptions():\n\u001b[0;32m--> 218\u001b[0m     resp \u001b[38;5;241m=\u001b[39m \u001b[38;5;28;43mself\u001b[39;49m\u001b[38;5;241;43m.\u001b[39;49m\u001b[43m_pool\u001b[49m\u001b[38;5;241;43m.\u001b[39;49m\u001b[43mhandle_request\u001b[49m\u001b[43m(\u001b[49m\u001b[43mreq\u001b[49m\u001b[43m)\u001b[49m\n\u001b[1;32m    220\u001b[0m \u001b[38;5;28;01massert\u001b[39;00m \u001b[38;5;28misinstance\u001b[39m(resp\u001b[38;5;241m.\u001b[39mstream, typing\u001b[38;5;241m.\u001b[39mIterable)\n",
      "File \u001b[0;32m~/Library/Caches/pypoetry/virtualenvs/folio-notebook-JNV-ES0s-py3.11/lib/python3.11/site-packages/httpcore/_sync/connection_pool.py:253\u001b[0m, in \u001b[0;36mConnectionPool.handle_request\u001b[0;34m(self, request)\u001b[0m\n\u001b[1;32m    252\u001b[0m     \u001b[38;5;28mself\u001b[39m\u001b[38;5;241m.\u001b[39mresponse_closed(status)\n\u001b[0;32m--> 253\u001b[0m     \u001b[38;5;28;01mraise\u001b[39;00m exc\n\u001b[1;32m    254\u001b[0m \u001b[38;5;28;01melse\u001b[39;00m:\n",
      "File \u001b[0;32m~/Library/Caches/pypoetry/virtualenvs/folio-notebook-JNV-ES0s-py3.11/lib/python3.11/site-packages/httpcore/_sync/connection_pool.py:237\u001b[0m, in \u001b[0;36mConnectionPool.handle_request\u001b[0;34m(self, request)\u001b[0m\n\u001b[1;32m    236\u001b[0m \u001b[38;5;28;01mtry\u001b[39;00m:\n\u001b[0;32m--> 237\u001b[0m     response \u001b[38;5;241m=\u001b[39m \u001b[43mconnection\u001b[49m\u001b[38;5;241;43m.\u001b[39;49m\u001b[43mhandle_request\u001b[49m\u001b[43m(\u001b[49m\u001b[43mrequest\u001b[49m\u001b[43m)\u001b[49m\n\u001b[1;32m    238\u001b[0m \u001b[38;5;28;01mexcept\u001b[39;00m ConnectionNotAvailable:\n\u001b[1;32m    239\u001b[0m     \u001b[38;5;66;03m# The ConnectionNotAvailable exception is a special case, that\u001b[39;00m\n\u001b[1;32m    240\u001b[0m     \u001b[38;5;66;03m# indicates we need to retry the request on a new connection.\u001b[39;00m\n\u001b[0;32m   (...)\u001b[0m\n\u001b[1;32m    244\u001b[0m     \u001b[38;5;66;03m# might end up as an HTTP/2 connection, but which actually ends\u001b[39;00m\n\u001b[1;32m    245\u001b[0m     \u001b[38;5;66;03m# up as HTTP/1.1.\u001b[39;00m\n",
      "File \u001b[0;32m~/Library/Caches/pypoetry/virtualenvs/folio-notebook-JNV-ES0s-py3.11/lib/python3.11/site-packages/httpcore/_sync/connection.py:90\u001b[0m, in \u001b[0;36mHTTPConnection.handle_request\u001b[0;34m(self, request)\u001b[0m\n\u001b[1;32m     88\u001b[0m         \u001b[38;5;28;01mraise\u001b[39;00m ConnectionNotAvailable()\n\u001b[0;32m---> 90\u001b[0m \u001b[38;5;28;01mreturn\u001b[39;00m \u001b[38;5;28;43mself\u001b[39;49m\u001b[38;5;241;43m.\u001b[39;49m\u001b[43m_connection\u001b[49m\u001b[38;5;241;43m.\u001b[39;49m\u001b[43mhandle_request\u001b[49m\u001b[43m(\u001b[49m\u001b[43mrequest\u001b[49m\u001b[43m)\u001b[49m\n",
      "File \u001b[0;32m~/Library/Caches/pypoetry/virtualenvs/folio-notebook-JNV-ES0s-py3.11/lib/python3.11/site-packages/httpcore/_sync/http11.py:112\u001b[0m, in \u001b[0;36mHTTP11Connection.handle_request\u001b[0;34m(self, request)\u001b[0m\n\u001b[1;32m    111\u001b[0m     \u001b[38;5;28mself\u001b[39m\u001b[38;5;241m.\u001b[39m_response_closed()\n\u001b[0;32m--> 112\u001b[0m \u001b[38;5;28;01mraise\u001b[39;00m exc\n",
      "File \u001b[0;32m~/Library/Caches/pypoetry/virtualenvs/folio-notebook-JNV-ES0s-py3.11/lib/python3.11/site-packages/httpcore/_sync/http11.py:91\u001b[0m, in \u001b[0;36mHTTP11Connection.handle_request\u001b[0;34m(self, request)\u001b[0m\n\u001b[1;32m     83\u001b[0m \u001b[38;5;28;01mwith\u001b[39;00m Trace(\n\u001b[1;32m     84\u001b[0m     \u001b[38;5;124m\"\u001b[39m\u001b[38;5;124mhttp11.receive_response_headers\u001b[39m\u001b[38;5;124m\"\u001b[39m, request, kwargs\n\u001b[1;32m     85\u001b[0m ) \u001b[38;5;28;01mas\u001b[39;00m trace:\n\u001b[1;32m     86\u001b[0m     (\n\u001b[1;32m     87\u001b[0m         http_version,\n\u001b[1;32m     88\u001b[0m         status,\n\u001b[1;32m     89\u001b[0m         reason_phrase,\n\u001b[1;32m     90\u001b[0m         headers,\n\u001b[0;32m---> 91\u001b[0m     ) \u001b[38;5;241m=\u001b[39m \u001b[38;5;28;43mself\u001b[39;49m\u001b[38;5;241;43m.\u001b[39;49m\u001b[43m_receive_response_headers\u001b[49m\u001b[43m(\u001b[49m\u001b[38;5;241;43m*\u001b[39;49m\u001b[38;5;241;43m*\u001b[39;49m\u001b[43mkwargs\u001b[49m\u001b[43m)\u001b[49m\n\u001b[1;32m     92\u001b[0m     trace\u001b[38;5;241m.\u001b[39mreturn_value \u001b[38;5;241m=\u001b[39m (\n\u001b[1;32m     93\u001b[0m         http_version,\n\u001b[1;32m     94\u001b[0m         status,\n\u001b[1;32m     95\u001b[0m         reason_phrase,\n\u001b[1;32m     96\u001b[0m         headers,\n\u001b[1;32m     97\u001b[0m     )\n",
      "File \u001b[0;32m~/Library/Caches/pypoetry/virtualenvs/folio-notebook-JNV-ES0s-py3.11/lib/python3.11/site-packages/httpcore/_sync/http11.py:155\u001b[0m, in \u001b[0;36mHTTP11Connection._receive_response_headers\u001b[0;34m(self, request)\u001b[0m\n\u001b[1;32m    154\u001b[0m \u001b[38;5;28;01mwhile\u001b[39;00m \u001b[38;5;28;01mTrue\u001b[39;00m:\n\u001b[0;32m--> 155\u001b[0m     event \u001b[38;5;241m=\u001b[39m \u001b[38;5;28;43mself\u001b[39;49m\u001b[38;5;241;43m.\u001b[39;49m\u001b[43m_receive_event\u001b[49m\u001b[43m(\u001b[49m\u001b[43mtimeout\u001b[49m\u001b[38;5;241;43m=\u001b[39;49m\u001b[43mtimeout\u001b[49m\u001b[43m)\u001b[49m\n\u001b[1;32m    156\u001b[0m     \u001b[38;5;28;01mif\u001b[39;00m \u001b[38;5;28misinstance\u001b[39m(event, h11\u001b[38;5;241m.\u001b[39mResponse):\n",
      "File \u001b[0;32m~/Library/Caches/pypoetry/virtualenvs/folio-notebook-JNV-ES0s-py3.11/lib/python3.11/site-packages/httpcore/_sync/http11.py:205\u001b[0m, in \u001b[0;36mHTTP11Connection._receive_event\u001b[0;34m(self, timeout)\u001b[0m\n\u001b[1;32m    204\u001b[0m     msg \u001b[38;5;241m=\u001b[39m \u001b[38;5;124m\"\u001b[39m\u001b[38;5;124mServer disconnected without sending a response.\u001b[39m\u001b[38;5;124m\"\u001b[39m\n\u001b[0;32m--> 205\u001b[0m     \u001b[38;5;28;01mraise\u001b[39;00m RemoteProtocolError(msg)\n\u001b[1;32m    207\u001b[0m \u001b[38;5;28mself\u001b[39m\u001b[38;5;241m.\u001b[39m_h11_state\u001b[38;5;241m.\u001b[39mreceive_data(data)\n",
      "\u001b[0;31mRemoteProtocolError\u001b[0m: Server disconnected without sending a response.",
      "\nThe above exception was the direct cause of the following exception:\n",
      "\u001b[0;31mRemoteProtocolError\u001b[0m                       Traceback (most recent call last)",
      "Cell \u001b[0;32mIn[18], line 4\u001b[0m\n\u001b[1;32m      2\u001b[0m instance_version \u001b[38;5;241m=\u001b[39m folio_client\u001b[38;5;241m.\u001b[39mfolio_get(\u001b[38;5;124mf\u001b[39m\u001b[38;5;124m\"\u001b[39m\u001b[38;5;124m/inventory/instances/\u001b[39m\u001b[38;5;132;01m{\u001b[39;00minstance_id\u001b[38;5;132;01m}\u001b[39;00m\u001b[38;5;124m\"\u001b[39m)\u001b[38;5;241m.\u001b[39mget(\u001b[38;5;124m'\u001b[39m\u001b[38;5;124m_version\u001b[39m\u001b[38;5;124m'\u001b[39m)\n\u001b[1;32m      3\u001b[0m query \u001b[38;5;241m=\u001b[39m {\u001b[38;5;124m'\u001b[39m\u001b[38;5;124mexternalId\u001b[39m\u001b[38;5;124m'\u001b[39m: \u001b[38;5;124mf\u001b[39m\u001b[38;5;124m\"\u001b[39m\u001b[38;5;132;01m{\u001b[39;00minstance_id\u001b[38;5;132;01m}\u001b[39;00m\u001b[38;5;124m\"\u001b[39m}\n\u001b[0;32m----> 4\u001b[0m parsed_record \u001b[38;5;241m=\u001b[39m \u001b[43mfolio_client\u001b[49m\u001b[38;5;241;43m.\u001b[39;49m\u001b[43mfolio_get\u001b[49m\u001b[43m(\u001b[49m\u001b[38;5;124;43m\"\u001b[39;49m\u001b[38;5;124;43m/change-manager/parsedRecords\u001b[39;49m\u001b[38;5;124;43m\"\u001b[39;49m\u001b[43m,\u001b[49m\u001b[43m \u001b[49m\u001b[43mquery_params\u001b[49m\u001b[38;5;241;43m=\u001b[39;49m\u001b[43mquery\u001b[49m\u001b[43m)\u001b[49m\n\u001b[1;32m      5\u001b[0m record_fields \u001b[38;5;241m=\u001b[39m parsed_record[\u001b[38;5;124m'\u001b[39m\u001b[38;5;124mparsedRecord\u001b[39m\u001b[38;5;124m'\u001b[39m][\u001b[38;5;124m'\u001b[39m\u001b[38;5;124mcontent\u001b[39m\u001b[38;5;124m'\u001b[39m][\u001b[38;5;124m'\u001b[39m\u001b[38;5;124mfields\u001b[39m\u001b[38;5;124m'\u001b[39m]\n\u001b[1;32m      6\u001b[0m record_979s \u001b[38;5;241m=\u001b[39m []\n",
      "File \u001b[0;32m~/Library/Caches/pypoetry/virtualenvs/folio-notebook-JNV-ES0s-py3.11/lib/python3.11/site-packages/folioclient/FolioClient.py:364\u001b[0m, in \u001b[0;36mFolioClient.folio_get\u001b[0;34m(self, path, key, query, query_params)\u001b[0m\n\u001b[1;32m    362\u001b[0m     req\u001b[38;5;241m.\u001b[39mraise_for_status()\n\u001b[1;32m    363\u001b[0m \u001b[38;5;28;01melse\u001b[39;00m:\n\u001b[0;32m--> 364\u001b[0m     req \u001b[38;5;241m=\u001b[39m \u001b[43mhttpx\u001b[49m\u001b[38;5;241;43m.\u001b[39;49m\u001b[43mget\u001b[49m\u001b[43m(\u001b[49m\n\u001b[1;32m    365\u001b[0m \u001b[43m        \u001b[49m\u001b[43murl\u001b[49m\u001b[43m,\u001b[49m\n\u001b[1;32m    366\u001b[0m \u001b[43m        \u001b[49m\u001b[43mparams\u001b[49m\u001b[38;5;241;43m=\u001b[39;49m\u001b[43mquery_params\u001b[49m\u001b[43m,\u001b[49m\n\u001b[1;32m    367\u001b[0m \u001b[43m        \u001b[49m\u001b[43mheaders\u001b[49m\u001b[38;5;241;43m=\u001b[39;49m\u001b[38;5;28;43mself\u001b[39;49m\u001b[38;5;241;43m.\u001b[39;49m\u001b[43mokapi_headers\u001b[49m\u001b[43m,\u001b[49m\n\u001b[1;32m    368\u001b[0m \u001b[43m        \u001b[49m\u001b[43mtimeout\u001b[49m\u001b[38;5;241;43m=\u001b[39;49m\u001b[43mHTTPX_TIMEOUT\u001b[49m\u001b[43m,\u001b[49m\n\u001b[1;32m    369\u001b[0m \u001b[43m        \u001b[49m\u001b[43mverify\u001b[49m\u001b[38;5;241;43m=\u001b[39;49m\u001b[38;5;28;43mself\u001b[39;49m\u001b[38;5;241;43m.\u001b[39;49m\u001b[43mssl_verify\u001b[49m\u001b[43m,\u001b[49m\n\u001b[1;32m    370\u001b[0m \u001b[43m    \u001b[49m\u001b[43m)\u001b[49m\n\u001b[1;32m    371\u001b[0m     req\u001b[38;5;241m.\u001b[39mraise_for_status()\n\u001b[1;32m    372\u001b[0m \u001b[38;5;28;01mreturn\u001b[39;00m req\u001b[38;5;241m.\u001b[39mjson()[key] \u001b[38;5;28;01mif\u001b[39;00m key \u001b[38;5;28;01melse\u001b[39;00m req\u001b[38;5;241m.\u001b[39mjson()\n",
      "File \u001b[0;32m~/Library/Caches/pypoetry/virtualenvs/folio-notebook-JNV-ES0s-py3.11/lib/python3.11/site-packages/httpx/_api.py:189\u001b[0m, in \u001b[0;36mget\u001b[0;34m(url, params, headers, cookies, auth, proxies, follow_redirects, cert, verify, timeout, trust_env)\u001b[0m\n\u001b[1;32m    167\u001b[0m \u001b[38;5;28;01mdef\u001b[39;00m \u001b[38;5;21mget\u001b[39m(\n\u001b[1;32m    168\u001b[0m     url: URLTypes,\n\u001b[1;32m    169\u001b[0m     \u001b[38;5;241m*\u001b[39m,\n\u001b[0;32m   (...)\u001b[0m\n\u001b[1;32m    179\u001b[0m     trust_env: \u001b[38;5;28mbool\u001b[39m \u001b[38;5;241m=\u001b[39m \u001b[38;5;28;01mTrue\u001b[39;00m,\n\u001b[1;32m    180\u001b[0m ) \u001b[38;5;241m-\u001b[39m\u001b[38;5;241m>\u001b[39m Response:\n\u001b[1;32m    181\u001b[0m \u001b[38;5;250m    \u001b[39m\u001b[38;5;124;03m\"\"\"\u001b[39;00m\n\u001b[1;32m    182\u001b[0m \u001b[38;5;124;03m    Sends a `GET` request.\u001b[39;00m\n\u001b[1;32m    183\u001b[0m \n\u001b[0;32m   (...)\u001b[0m\n\u001b[1;32m    187\u001b[0m \u001b[38;5;124;03m    on this function, as `GET` requests should not include a request body.\u001b[39;00m\n\u001b[1;32m    188\u001b[0m \u001b[38;5;124;03m    \"\"\"\u001b[39;00m\n\u001b[0;32m--> 189\u001b[0m     \u001b[38;5;28;01mreturn\u001b[39;00m \u001b[43mrequest\u001b[49m\u001b[43m(\u001b[49m\n\u001b[1;32m    190\u001b[0m \u001b[43m        \u001b[49m\u001b[38;5;124;43m\"\u001b[39;49m\u001b[38;5;124;43mGET\u001b[39;49m\u001b[38;5;124;43m\"\u001b[39;49m\u001b[43m,\u001b[49m\n\u001b[1;32m    191\u001b[0m \u001b[43m        \u001b[49m\u001b[43murl\u001b[49m\u001b[43m,\u001b[49m\n\u001b[1;32m    192\u001b[0m \u001b[43m        \u001b[49m\u001b[43mparams\u001b[49m\u001b[38;5;241;43m=\u001b[39;49m\u001b[43mparams\u001b[49m\u001b[43m,\u001b[49m\n\u001b[1;32m    193\u001b[0m \u001b[43m        \u001b[49m\u001b[43mheaders\u001b[49m\u001b[38;5;241;43m=\u001b[39;49m\u001b[43mheaders\u001b[49m\u001b[43m,\u001b[49m\n\u001b[1;32m    194\u001b[0m \u001b[43m        \u001b[49m\u001b[43mcookies\u001b[49m\u001b[38;5;241;43m=\u001b[39;49m\u001b[43mcookies\u001b[49m\u001b[43m,\u001b[49m\n\u001b[1;32m    195\u001b[0m \u001b[43m        \u001b[49m\u001b[43mauth\u001b[49m\u001b[38;5;241;43m=\u001b[39;49m\u001b[43mauth\u001b[49m\u001b[43m,\u001b[49m\n\u001b[1;32m    196\u001b[0m \u001b[43m        \u001b[49m\u001b[43mproxies\u001b[49m\u001b[38;5;241;43m=\u001b[39;49m\u001b[43mproxies\u001b[49m\u001b[43m,\u001b[49m\n\u001b[1;32m    197\u001b[0m \u001b[43m        \u001b[49m\u001b[43mfollow_redirects\u001b[49m\u001b[38;5;241;43m=\u001b[39;49m\u001b[43mfollow_redirects\u001b[49m\u001b[43m,\u001b[49m\n\u001b[1;32m    198\u001b[0m \u001b[43m        \u001b[49m\u001b[43mcert\u001b[49m\u001b[38;5;241;43m=\u001b[39;49m\u001b[43mcert\u001b[49m\u001b[43m,\u001b[49m\n\u001b[1;32m    199\u001b[0m \u001b[43m        \u001b[49m\u001b[43mverify\u001b[49m\u001b[38;5;241;43m=\u001b[39;49m\u001b[43mverify\u001b[49m\u001b[43m,\u001b[49m\n\u001b[1;32m    200\u001b[0m \u001b[43m        \u001b[49m\u001b[43mtimeout\u001b[49m\u001b[38;5;241;43m=\u001b[39;49m\u001b[43mtimeout\u001b[49m\u001b[43m,\u001b[49m\n\u001b[1;32m    201\u001b[0m \u001b[43m        \u001b[49m\u001b[43mtrust_env\u001b[49m\u001b[38;5;241;43m=\u001b[39;49m\u001b[43mtrust_env\u001b[49m\u001b[43m,\u001b[49m\n\u001b[1;32m    202\u001b[0m \u001b[43m    \u001b[49m\u001b[43m)\u001b[49m\n",
      "File \u001b[0;32m~/Library/Caches/pypoetry/virtualenvs/folio-notebook-JNV-ES0s-py3.11/lib/python3.11/site-packages/httpx/_api.py:100\u001b[0m, in \u001b[0;36mrequest\u001b[0;34m(method, url, params, content, data, files, json, headers, cookies, auth, proxies, timeout, follow_redirects, verify, cert, trust_env)\u001b[0m\n\u001b[1;32m     42\u001b[0m \u001b[38;5;250m\u001b[39m\u001b[38;5;124;03m\"\"\"\u001b[39;00m\n\u001b[1;32m     43\u001b[0m \u001b[38;5;124;03mSends an HTTP request.\u001b[39;00m\n\u001b[1;32m     44\u001b[0m \n\u001b[0;32m   (...)\u001b[0m\n\u001b[1;32m     90\u001b[0m \u001b[38;5;124;03m```\u001b[39;00m\n\u001b[1;32m     91\u001b[0m \u001b[38;5;124;03m\"\"\"\u001b[39;00m\n\u001b[1;32m     92\u001b[0m \u001b[38;5;28;01mwith\u001b[39;00m Client(\n\u001b[1;32m     93\u001b[0m     cookies\u001b[38;5;241m=\u001b[39mcookies,\n\u001b[1;32m     94\u001b[0m     proxies\u001b[38;5;241m=\u001b[39mproxies,\n\u001b[0;32m   (...)\u001b[0m\n\u001b[1;32m     98\u001b[0m     trust_env\u001b[38;5;241m=\u001b[39mtrust_env,\n\u001b[1;32m     99\u001b[0m ) \u001b[38;5;28;01mas\u001b[39;00m client:\n\u001b[0;32m--> 100\u001b[0m     \u001b[38;5;28;01mreturn\u001b[39;00m \u001b[43mclient\u001b[49m\u001b[38;5;241;43m.\u001b[39;49m\u001b[43mrequest\u001b[49m\u001b[43m(\u001b[49m\n\u001b[1;32m    101\u001b[0m \u001b[43m        \u001b[49m\u001b[43mmethod\u001b[49m\u001b[38;5;241;43m=\u001b[39;49m\u001b[43mmethod\u001b[49m\u001b[43m,\u001b[49m\n\u001b[1;32m    102\u001b[0m \u001b[43m        \u001b[49m\u001b[43murl\u001b[49m\u001b[38;5;241;43m=\u001b[39;49m\u001b[43murl\u001b[49m\u001b[43m,\u001b[49m\n\u001b[1;32m    103\u001b[0m \u001b[43m        \u001b[49m\u001b[43mcontent\u001b[49m\u001b[38;5;241;43m=\u001b[39;49m\u001b[43mcontent\u001b[49m\u001b[43m,\u001b[49m\n\u001b[1;32m    104\u001b[0m \u001b[43m        \u001b[49m\u001b[43mdata\u001b[49m\u001b[38;5;241;43m=\u001b[39;49m\u001b[43mdata\u001b[49m\u001b[43m,\u001b[49m\n\u001b[1;32m    105\u001b[0m \u001b[43m        \u001b[49m\u001b[43mfiles\u001b[49m\u001b[38;5;241;43m=\u001b[39;49m\u001b[43mfiles\u001b[49m\u001b[43m,\u001b[49m\n\u001b[1;32m    106\u001b[0m \u001b[43m        \u001b[49m\u001b[43mjson\u001b[49m\u001b[38;5;241;43m=\u001b[39;49m\u001b[43mjson\u001b[49m\u001b[43m,\u001b[49m\n\u001b[1;32m    107\u001b[0m \u001b[43m        \u001b[49m\u001b[43mparams\u001b[49m\u001b[38;5;241;43m=\u001b[39;49m\u001b[43mparams\u001b[49m\u001b[43m,\u001b[49m\n\u001b[1;32m    108\u001b[0m \u001b[43m        \u001b[49m\u001b[43mheaders\u001b[49m\u001b[38;5;241;43m=\u001b[39;49m\u001b[43mheaders\u001b[49m\u001b[43m,\u001b[49m\n\u001b[1;32m    109\u001b[0m \u001b[43m        \u001b[49m\u001b[43mauth\u001b[49m\u001b[38;5;241;43m=\u001b[39;49m\u001b[43mauth\u001b[49m\u001b[43m,\u001b[49m\n\u001b[1;32m    110\u001b[0m \u001b[43m        \u001b[49m\u001b[43mfollow_redirects\u001b[49m\u001b[38;5;241;43m=\u001b[39;49m\u001b[43mfollow_redirects\u001b[49m\u001b[43m,\u001b[49m\n\u001b[1;32m    111\u001b[0m \u001b[43m    \u001b[49m\u001b[43m)\u001b[49m\n",
      "File \u001b[0;32m~/Library/Caches/pypoetry/virtualenvs/folio-notebook-JNV-ES0s-py3.11/lib/python3.11/site-packages/httpx/_client.py:821\u001b[0m, in \u001b[0;36mClient.request\u001b[0;34m(self, method, url, content, data, files, json, params, headers, cookies, auth, follow_redirects, timeout, extensions)\u001b[0m\n\u001b[1;32m    806\u001b[0m     warnings\u001b[38;5;241m.\u001b[39mwarn(message, \u001b[38;5;167;01mDeprecationWarning\u001b[39;00m)\n\u001b[1;32m    808\u001b[0m request \u001b[38;5;241m=\u001b[39m \u001b[38;5;28mself\u001b[39m\u001b[38;5;241m.\u001b[39mbuild_request(\n\u001b[1;32m    809\u001b[0m     method\u001b[38;5;241m=\u001b[39mmethod,\n\u001b[1;32m    810\u001b[0m     url\u001b[38;5;241m=\u001b[39murl,\n\u001b[0;32m   (...)\u001b[0m\n\u001b[1;32m    819\u001b[0m     extensions\u001b[38;5;241m=\u001b[39mextensions,\n\u001b[1;32m    820\u001b[0m )\n\u001b[0;32m--> 821\u001b[0m \u001b[38;5;28;01mreturn\u001b[39;00m \u001b[38;5;28;43mself\u001b[39;49m\u001b[38;5;241;43m.\u001b[39;49m\u001b[43msend\u001b[49m\u001b[43m(\u001b[49m\u001b[43mrequest\u001b[49m\u001b[43m,\u001b[49m\u001b[43m \u001b[49m\u001b[43mauth\u001b[49m\u001b[38;5;241;43m=\u001b[39;49m\u001b[43mauth\u001b[49m\u001b[43m,\u001b[49m\u001b[43m \u001b[49m\u001b[43mfollow_redirects\u001b[49m\u001b[38;5;241;43m=\u001b[39;49m\u001b[43mfollow_redirects\u001b[49m\u001b[43m)\u001b[49m\n",
      "File \u001b[0;32m~/Library/Caches/pypoetry/virtualenvs/folio-notebook-JNV-ES0s-py3.11/lib/python3.11/site-packages/httpx/_client.py:908\u001b[0m, in \u001b[0;36mClient.send\u001b[0;34m(self, request, stream, auth, follow_redirects)\u001b[0m\n\u001b[1;32m    900\u001b[0m follow_redirects \u001b[38;5;241m=\u001b[39m (\n\u001b[1;32m    901\u001b[0m     \u001b[38;5;28mself\u001b[39m\u001b[38;5;241m.\u001b[39mfollow_redirects\n\u001b[1;32m    902\u001b[0m     \u001b[38;5;28;01mif\u001b[39;00m \u001b[38;5;28misinstance\u001b[39m(follow_redirects, UseClientDefault)\n\u001b[1;32m    903\u001b[0m     \u001b[38;5;28;01melse\u001b[39;00m follow_redirects\n\u001b[1;32m    904\u001b[0m )\n\u001b[1;32m    906\u001b[0m auth \u001b[38;5;241m=\u001b[39m \u001b[38;5;28mself\u001b[39m\u001b[38;5;241m.\u001b[39m_build_request_auth(request, auth)\n\u001b[0;32m--> 908\u001b[0m response \u001b[38;5;241m=\u001b[39m \u001b[38;5;28;43mself\u001b[39;49m\u001b[38;5;241;43m.\u001b[39;49m\u001b[43m_send_handling_auth\u001b[49m\u001b[43m(\u001b[49m\n\u001b[1;32m    909\u001b[0m \u001b[43m    \u001b[49m\u001b[43mrequest\u001b[49m\u001b[43m,\u001b[49m\n\u001b[1;32m    910\u001b[0m \u001b[43m    \u001b[49m\u001b[43mauth\u001b[49m\u001b[38;5;241;43m=\u001b[39;49m\u001b[43mauth\u001b[49m\u001b[43m,\u001b[49m\n\u001b[1;32m    911\u001b[0m \u001b[43m    \u001b[49m\u001b[43mfollow_redirects\u001b[49m\u001b[38;5;241;43m=\u001b[39;49m\u001b[43mfollow_redirects\u001b[49m\u001b[43m,\u001b[49m\n\u001b[1;32m    912\u001b[0m \u001b[43m    \u001b[49m\u001b[43mhistory\u001b[49m\u001b[38;5;241;43m=\u001b[39;49m\u001b[43m[\u001b[49m\u001b[43m]\u001b[49m\u001b[43m,\u001b[49m\n\u001b[1;32m    913\u001b[0m \u001b[43m\u001b[49m\u001b[43m)\u001b[49m\n\u001b[1;32m    914\u001b[0m \u001b[38;5;28;01mtry\u001b[39;00m:\n\u001b[1;32m    915\u001b[0m     \u001b[38;5;28;01mif\u001b[39;00m \u001b[38;5;129;01mnot\u001b[39;00m stream:\n",
      "File \u001b[0;32m~/Library/Caches/pypoetry/virtualenvs/folio-notebook-JNV-ES0s-py3.11/lib/python3.11/site-packages/httpx/_client.py:936\u001b[0m, in \u001b[0;36mClient._send_handling_auth\u001b[0;34m(self, request, auth, follow_redirects, history)\u001b[0m\n\u001b[1;32m    933\u001b[0m request \u001b[38;5;241m=\u001b[39m \u001b[38;5;28mnext\u001b[39m(auth_flow)\n\u001b[1;32m    935\u001b[0m \u001b[38;5;28;01mwhile\u001b[39;00m \u001b[38;5;28;01mTrue\u001b[39;00m:\n\u001b[0;32m--> 936\u001b[0m     response \u001b[38;5;241m=\u001b[39m \u001b[38;5;28;43mself\u001b[39;49m\u001b[38;5;241;43m.\u001b[39;49m\u001b[43m_send_handling_redirects\u001b[49m\u001b[43m(\u001b[49m\n\u001b[1;32m    937\u001b[0m \u001b[43m        \u001b[49m\u001b[43mrequest\u001b[49m\u001b[43m,\u001b[49m\n\u001b[1;32m    938\u001b[0m \u001b[43m        \u001b[49m\u001b[43mfollow_redirects\u001b[49m\u001b[38;5;241;43m=\u001b[39;49m\u001b[43mfollow_redirects\u001b[49m\u001b[43m,\u001b[49m\n\u001b[1;32m    939\u001b[0m \u001b[43m        \u001b[49m\u001b[43mhistory\u001b[49m\u001b[38;5;241;43m=\u001b[39;49m\u001b[43mhistory\u001b[49m\u001b[43m,\u001b[49m\n\u001b[1;32m    940\u001b[0m \u001b[43m    \u001b[49m\u001b[43m)\u001b[49m\n\u001b[1;32m    941\u001b[0m     \u001b[38;5;28;01mtry\u001b[39;00m:\n\u001b[1;32m    942\u001b[0m         \u001b[38;5;28;01mtry\u001b[39;00m:\n",
      "File \u001b[0;32m~/Library/Caches/pypoetry/virtualenvs/folio-notebook-JNV-ES0s-py3.11/lib/python3.11/site-packages/httpx/_client.py:973\u001b[0m, in \u001b[0;36mClient._send_handling_redirects\u001b[0;34m(self, request, follow_redirects, history)\u001b[0m\n\u001b[1;32m    970\u001b[0m \u001b[38;5;28;01mfor\u001b[39;00m hook \u001b[38;5;129;01min\u001b[39;00m \u001b[38;5;28mself\u001b[39m\u001b[38;5;241m.\u001b[39m_event_hooks[\u001b[38;5;124m\"\u001b[39m\u001b[38;5;124mrequest\u001b[39m\u001b[38;5;124m\"\u001b[39m]:\n\u001b[1;32m    971\u001b[0m     hook(request)\n\u001b[0;32m--> 973\u001b[0m response \u001b[38;5;241m=\u001b[39m \u001b[38;5;28;43mself\u001b[39;49m\u001b[38;5;241;43m.\u001b[39;49m\u001b[43m_send_single_request\u001b[49m\u001b[43m(\u001b[49m\u001b[43mrequest\u001b[49m\u001b[43m)\u001b[49m\n\u001b[1;32m    974\u001b[0m \u001b[38;5;28;01mtry\u001b[39;00m:\n\u001b[1;32m    975\u001b[0m     \u001b[38;5;28;01mfor\u001b[39;00m hook \u001b[38;5;129;01min\u001b[39;00m \u001b[38;5;28mself\u001b[39m\u001b[38;5;241m.\u001b[39m_event_hooks[\u001b[38;5;124m\"\u001b[39m\u001b[38;5;124mresponse\u001b[39m\u001b[38;5;124m\"\u001b[39m]:\n",
      "File \u001b[0;32m~/Library/Caches/pypoetry/virtualenvs/folio-notebook-JNV-ES0s-py3.11/lib/python3.11/site-packages/httpx/_client.py:1009\u001b[0m, in \u001b[0;36mClient._send_single_request\u001b[0;34m(self, request)\u001b[0m\n\u001b[1;32m   1004\u001b[0m     \u001b[38;5;28;01mraise\u001b[39;00m \u001b[38;5;167;01mRuntimeError\u001b[39;00m(\n\u001b[1;32m   1005\u001b[0m         \u001b[38;5;124m\"\u001b[39m\u001b[38;5;124mAttempted to send an async request with a sync Client instance.\u001b[39m\u001b[38;5;124m\"\u001b[39m\n\u001b[1;32m   1006\u001b[0m     )\n\u001b[1;32m   1008\u001b[0m \u001b[38;5;28;01mwith\u001b[39;00m request_context(request\u001b[38;5;241m=\u001b[39mrequest):\n\u001b[0;32m-> 1009\u001b[0m     response \u001b[38;5;241m=\u001b[39m \u001b[43mtransport\u001b[49m\u001b[38;5;241;43m.\u001b[39;49m\u001b[43mhandle_request\u001b[49m\u001b[43m(\u001b[49m\u001b[43mrequest\u001b[49m\u001b[43m)\u001b[49m\n\u001b[1;32m   1011\u001b[0m \u001b[38;5;28;01massert\u001b[39;00m \u001b[38;5;28misinstance\u001b[39m(response\u001b[38;5;241m.\u001b[39mstream, SyncByteStream)\n\u001b[1;32m   1013\u001b[0m response\u001b[38;5;241m.\u001b[39mrequest \u001b[38;5;241m=\u001b[39m request\n",
      "File \u001b[0;32m~/Library/Caches/pypoetry/virtualenvs/folio-notebook-JNV-ES0s-py3.11/lib/python3.11/site-packages/httpx/_transports/default.py:217\u001b[0m, in \u001b[0;36mHTTPTransport.handle_request\u001b[0;34m(self, request)\u001b[0m\n\u001b[1;32m    203\u001b[0m \u001b[38;5;28;01massert\u001b[39;00m \u001b[38;5;28misinstance\u001b[39m(request\u001b[38;5;241m.\u001b[39mstream, SyncByteStream)\n\u001b[1;32m    205\u001b[0m req \u001b[38;5;241m=\u001b[39m httpcore\u001b[38;5;241m.\u001b[39mRequest(\n\u001b[1;32m    206\u001b[0m     method\u001b[38;5;241m=\u001b[39mrequest\u001b[38;5;241m.\u001b[39mmethod,\n\u001b[1;32m    207\u001b[0m     url\u001b[38;5;241m=\u001b[39mhttpcore\u001b[38;5;241m.\u001b[39mURL(\n\u001b[0;32m   (...)\u001b[0m\n\u001b[1;32m    215\u001b[0m     extensions\u001b[38;5;241m=\u001b[39mrequest\u001b[38;5;241m.\u001b[39mextensions,\n\u001b[1;32m    216\u001b[0m )\n\u001b[0;32m--> 217\u001b[0m \u001b[43m\u001b[49m\u001b[38;5;28;43;01mwith\u001b[39;49;00m\u001b[43m \u001b[49m\u001b[43mmap_httpcore_exceptions\u001b[49m\u001b[43m(\u001b[49m\u001b[43m)\u001b[49m\u001b[43m:\u001b[49m\n\u001b[1;32m    218\u001b[0m \u001b[43m    \u001b[49m\u001b[43mresp\u001b[49m\u001b[43m \u001b[49m\u001b[38;5;241;43m=\u001b[39;49m\u001b[43m \u001b[49m\u001b[38;5;28;43mself\u001b[39;49m\u001b[38;5;241;43m.\u001b[39;49m\u001b[43m_pool\u001b[49m\u001b[38;5;241;43m.\u001b[39;49m\u001b[43mhandle_request\u001b[49m\u001b[43m(\u001b[49m\u001b[43mreq\u001b[49m\u001b[43m)\u001b[49m\n\u001b[1;32m    220\u001b[0m \u001b[38;5;28;01massert\u001b[39;00m \u001b[38;5;28misinstance\u001b[39m(resp\u001b[38;5;241m.\u001b[39mstream, typing\u001b[38;5;241m.\u001b[39mIterable)\n",
      "File \u001b[0;32m/opt/homebrew/Cellar/python@3.11/3.11.10/Frameworks/Python.framework/Versions/3.11/lib/python3.11/contextlib.py:158\u001b[0m, in \u001b[0;36m_GeneratorContextManager.__exit__\u001b[0;34m(self, typ, value, traceback)\u001b[0m\n\u001b[1;32m    156\u001b[0m     value \u001b[38;5;241m=\u001b[39m typ()\n\u001b[1;32m    157\u001b[0m \u001b[38;5;28;01mtry\u001b[39;00m:\n\u001b[0;32m--> 158\u001b[0m     \u001b[38;5;28mself\u001b[39m\u001b[38;5;241m.\u001b[39mgen\u001b[38;5;241m.\u001b[39mthrow(typ, value, traceback)\n\u001b[1;32m    159\u001b[0m \u001b[38;5;28;01mexcept\u001b[39;00m \u001b[38;5;167;01mStopIteration\u001b[39;00m \u001b[38;5;28;01mas\u001b[39;00m exc:\n\u001b[1;32m    160\u001b[0m     \u001b[38;5;66;03m# Suppress StopIteration *unless* it's the same exception that\u001b[39;00m\n\u001b[1;32m    161\u001b[0m     \u001b[38;5;66;03m# was passed to throw().  This prevents a StopIteration\u001b[39;00m\n\u001b[1;32m    162\u001b[0m     \u001b[38;5;66;03m# raised inside the \"with\" statement from being suppressed.\u001b[39;00m\n\u001b[1;32m    163\u001b[0m     \u001b[38;5;28;01mreturn\u001b[39;00m exc \u001b[38;5;129;01mis\u001b[39;00m \u001b[38;5;129;01mnot\u001b[39;00m value\n",
      "File \u001b[0;32m~/Library/Caches/pypoetry/virtualenvs/folio-notebook-JNV-ES0s-py3.11/lib/python3.11/site-packages/httpx/_transports/default.py:77\u001b[0m, in \u001b[0;36mmap_httpcore_exceptions\u001b[0;34m()\u001b[0m\n\u001b[1;32m     74\u001b[0m     \u001b[38;5;28;01mraise\u001b[39;00m\n\u001b[1;32m     76\u001b[0m message \u001b[38;5;241m=\u001b[39m \u001b[38;5;28mstr\u001b[39m(exc)\n\u001b[0;32m---> 77\u001b[0m \u001b[38;5;28;01mraise\u001b[39;00m mapped_exc(message) \u001b[38;5;28;01mfrom\u001b[39;00m \u001b[38;5;21;01mexc\u001b[39;00m\n",
      "\u001b[0;31mRemoteProtocolError\u001b[0m: Server disconnected without sending a response."
     ]
    }
   ],
   "source": [
    "for instance_id in instances:\n",
    "    instance_version = folio_client.folio_get(f\"/inventory/instances/{instance_id}\").get('_version')\n",
    "    query = {'externalId': f\"{instance_id}\"}\n",
    "    parsed_record = folio_client.folio_get(\"/change-manager/parsedRecords\", query_params=query)\n",
    "    record_fields = parsed_record['parsedRecord']['content']['fields']\n",
    "    record_979s = []\n",
    "    field_979 = next((field for field in record_fields if field.get('979')), None)\n",
    "    record_979s.append(field_979)\n",
    "    print(f\"id: {parsed_record['id']}\", f\"instance id: {parsed_record['externalIdsHolder']['instanceId']}\", f\"instance hrid: {parsed_record['externalIdsHolder']['instanceHrid']}\", f\"record state: {parsed_record['recordState']}\", f\"version: {parsed_record.get('relatedRecordVersion', instance_version)}\", f\"979 fields: {record_979s}\", sep=\"\\n\")"
   ]
  },
  {
   "cell_type": "code",
   "execution_count": null,
   "id": "14f2df7a-ee8b-46aa-acab-8119dff83a58",
   "metadata": {},
   "outputs": [],
   "source": []
  }
 ],
 "metadata": {
  "kernelspec": {
   "display_name": "Python 3 (ipykernel)",
   "language": "python",
   "name": "python3"
  },
  "language_info": {
   "codemirror_mode": {
    "name": "ipython",
    "version": 3
   },
   "file_extension": ".py",
   "mimetype": "text/x-python",
   "name": "python",
   "nbconvert_exporter": "python",
   "pygments_lexer": "ipython3",
   "version": "3.11.10"
  }
 },
 "nbformat": 4,
 "nbformat_minor": 5
}
