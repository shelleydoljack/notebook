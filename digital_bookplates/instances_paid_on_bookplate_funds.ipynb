{
 "cells": [
  {
   "cell_type": "code",
   "execution_count": 1,
   "id": "31f5348c-4c78-441b-8b67-ec8c9bcb9f65",
   "metadata": {},
   "outputs": [],
   "source": [
    "import os\n",
    "\n",
    "from folioclient import FolioClient\n",
    "\n",
    "okapi_url = os.getenv(\"OKAPI_URL\")\n",
    "user = os.getenv(\"OKAPI_USER\")\n",
    "password = os.getenv(\"OKAPI_PASSWORD\")\n",
    "tenant = os.getenv(\"TENANT\")\n",
    "\n",
    "folio_client = FolioClient(\n",
    "    okapi_url,\n",
    "    tenant,\n",
    "    user,\n",
    "    password)"
   ]
  },
  {
   "cell_type": "markdown",
   "id": "e5e7ee96-1bd2-4598-ad6e-4469ebf0ebfb",
   "metadata": {},
   "source": [
    "## Path 1: Use payment transactions to start\n",
    "**FOLIO UI uses this query:**\n",
    "```\n",
    "query=\"?query=((fiscalYearId=200bfabe-07c7-4deb-b54e-99d64a3435cb and (fromFundId=3eb86c5f-c77b-4cc9-8f29-7de7ce313411 or toFundId=3eb86c5f-c77b-4cc9-8f29-7de7ce313411)) and transactionType==\\\"Payment\\\") sortby transactionDate/sort.descending\"\n",
    "```\n",
    "\n",
    "We don't need to limit by fiscal year."
   ]
  },
  {
   "cell_type": "code",
   "execution_count": 2,
   "id": "cadf73bb-47bc-4eb9-ac00-cea01dadc849",
   "metadata": {},
   "outputs": [
    {
     "name": "stdout",
     "output_type": "stream",
     "text": [
      "20\n"
     ]
    }
   ],
   "source": [
    "query=\"?query=((fiscalYearId=200bfabe-07c7-4deb-b54e-99d64a3435cb and (fromFundId=3eb86c5f-c77b-4cc9-8f29-7de7ce313411 or toFundId=3eb86c5f-c77b-4cc9-8f29-7de7ce313411)) and transactionType==\\\"Payment\\\") sortby transactionDate/sort.descending\"\n",
    "ui_response = folio_client.folio_get(\"/finance/transactions\", query=query)\n",
    "print(ui_response['totalRecords'])"
   ]
  },
  {
   "cell_type": "markdown",
   "id": "3c2557bc-7df3-4327-8775-50f44c27c986",
   "metadata": {},
   "source": [
    "**Get all payment transactions for a digital bookplate fund**\n",
    "\n",
    "transactionType=Payment\n",
    "\n",
    "fund ID = UUID of fund"
   ]
  },
  {
   "cell_type": "code",
   "execution_count": 3,
   "id": "94ad0843-6ddb-4b26-997a-8656d6d0e7ba",
   "metadata": {},
   "outputs": [
    {
     "name": "stdout",
     "output_type": "stream",
     "text": [
      "21\n"
     ]
    }
   ],
   "source": [
    "query = {'query':'transactionType=Payment and (fromFundId=3eb86c5f-c77b-4cc9-8f29-7de7ce313411 or toFundId=3eb86c5f-c77b-4cc9-8f29-7de7ce313411)'}\n",
    "total_transactions = folio_client.folio_get(\"/finance/transactions\", query_params=query, key=\"totalRecords\")\n",
    "print(total_transactions)"
   ]
  },
  {
   "cell_type": "markdown",
   "id": "786a494a-7cff-42c5-bd41-be7edceca709",
   "metadata": {},
   "source": [
    "**Using folio_get_all function to get all transactions**\n",
    "\n",
    "folio_get_all cannot take a dict for the query. You must pass a string for query."
   ]
  },
  {
   "cell_type": "code",
   "execution_count": 4,
   "id": "a53de984-a632-4b4a-89c7-6384d21cb057",
   "metadata": {},
   "outputs": [],
   "source": [
    "query = \"?query=transactionType==Payment and (fromFundId=3eb86c5f-c77b-4cc9-8f29-7de7ce313411 or toFundId=3eb86c5f-c77b-4cc9-8f29-7de7ce313411)\"\n",
    "transactions = folio_client.folio_get_all(\"/finance/transactions\", key=\"transactions\", query=query, limit=999)"
   ]
  },
  {
   "cell_type": "markdown",
   "id": "de95ce1f-6dd9-4016-b556-a3b0627e17b1",
   "metadata": {},
   "source": [
    "**Get the invoice line ID from the transaction**"
   ]
  },
  {
   "cell_type": "code",
   "execution_count": 5,
   "id": "783ac503-cafa-4544-9b12-acb758c87f76",
   "metadata": {},
   "outputs": [
    {
     "name": "stdout",
     "output_type": "stream",
     "text": [
      "20\n",
      "['6bcc942c-962c-4443-98ee-2d48b9ee5d1e', '0b9ae0fa-792f-4db2-9254-648dfb185bb8', 'd2954121-7364-4ba2-aa07-05a97c957032', '76d19107-b65a-408c-ad3a-3b0c10c0c0ac', '28d90309-af31-484d-977c-ab45666665f7', 'd384cf0f-dfbf-44ef-a88c-3b1776b3a999', '5c6cffcf-1951-47c9-817f-145cbe931dea', 'cb0baa2d-7dd7-4986-8dc7-4909bbc18ce6', '3676f5ad-e22b-487e-b621-c15f441b0186', 'e0cf3343-121b-46fa-9253-c56b856c938b', '2c022a57-8070-4854-90ef-6cc09d55d114', '373439f7-8cf8-4908-86cc-dad6fd850729', '617f4238-baa4-461c-9aca-ec4b6c842994', '6b76dfec-8fb8-4fa7-9fc3-167603d4713c', 'a87a5114-71f0-4bcf-a799-e56c638c73dc', 'e0911498-0a55-49b7-a01f-d209a6ed8f11', '853b5a6b-4bda-4bbf-8fed-e1cb6b4709f0', 'b07a1c90-de9b-4b94-b4b6-4c66d3244f35', '25d23ff1-5c7a-42e1-b7bd-28be22119d8c', '668d0583-ad80-492e-82a6-a7e61c8fe1a1']\n"
     ]
    }
   ],
   "source": [
    "invoice_lines = []\n",
    "for x in transactions:\n",
    "    # print(x)\n",
    "    invoice_lines.append(x['sourceInvoiceLineId'])\n",
    "\n",
    "print(len(invoice_lines))\n",
    "print(invoice_lines)"
   ]
  },
  {
   "cell_type": "markdown",
   "id": "3a046ff6-b58d-4e35-9974-89e1ee14722d",
   "metadata": {},
   "source": [
    "**Get the PO line ID from the invoice line**\n",
    "\n",
    "Not all invoice lines will have a po line. For instance, if the invoice line is for SHIPPING."
   ]
  },
  {
   "cell_type": "code",
   "execution_count": 6,
   "id": "a44f3634-1026-44ce-880e-14bb6e145193",
   "metadata": {},
   "outputs": [
    {
     "name": "stdout",
     "output_type": "stream",
     "text": [
      "18\n",
      "['87319dc7-a5ea-4380-9b99-b02ec15638ed', '24491205-2f0c-4034-bdbb-f715d0410780', '2fb3c6ce-4541-4c19-8e16-d8ed6dd7a9f9', 'e399f1e9-6d10-4116-98d4-e7d192a00e57', 'e8cef55e-2bdc-4c1c-980d-3c66e493798b', '13e05f54-343e-4daf-acf9-3ae6fc66f5e1', 'd55342ce-0a33-4aa2-87c6-5ad6e1a12b75', 'be0af62c-665e-4178-ae13-e3250d89bcc6', '5dc4cfb3-a86f-4cfe-86f9-949fbe84aa17', 'c18b9e40-ad39-40dd-b918-1bd2b999fdaf', 'c18b9e40-ad39-40dd-b918-1bd2b999fdaf', '798596da-12a6-4c6d-8d3a-3bb6c54cb2f1', '7a5888fe-689b-4cfe-a27d-c2675a235203', '9047a74c-1057-4ddb-b52d-d01429b0b450', '1d45bbb7-63e1-47e9-9b45-75a06f2c7590', 'c3159ebb-7d49-4eee-933a-7a63636e4750', '08ad0d3a-a906-4bf7-8dc5-28cf3964daae', '39bbf04f-e729-4681-b805-bff3e4b933ac']\n"
     ]
    }
   ],
   "source": [
    "transactions_query_po_lines = []\n",
    "for x in invoice_lines:\n",
    "    invoice_line = folio_client.folio_get(f\"/invoice/invoice-lines/{x}\")\n",
    "    #print(invoice_line)\n",
    "    po_line_id = invoice_line.get('poLineId')\n",
    "    if po_line_id is not None:\n",
    "        transactions_query_po_lines.append(po_line_id)\n",
    "\n",
    "print(len(transactions_query_po_lines))\n",
    "print(transactions_query_po_lines)"
   ]
  },
  {
   "cell_type": "markdown",
   "id": "e02aa0c8-9c23-4836-8138-56917e68abfd",
   "metadata": {},
   "source": [
    "Maybe we don't need to start at transactions because we can query invoice lines on paid invoices with fund distributions for each of the digital bookplate funds."
   ]
  },
  {
   "cell_type": "markdown",
   "id": "4f5858cf-6bce-4f4c-b725-8dc31faeb999",
   "metadata": {},
   "source": [
    "## Path 2: Use invoice lines to start"
   ]
  },
  {
   "cell_type": "code",
   "execution_count": 7,
   "id": "b5d4667f-c150-427d-b842-34b29f964b47",
   "metadata": {},
   "outputs": [],
   "source": [
    "query = \"?query=fundDistributions==\\\"*3eb86c5f-c77b-4cc9-8f29-7de7ce313411*\\\" and invoiceLineStatus==\\\"Paid\\\"\"\n",
    "invoice_lines = folio_client.folio_get_all(\"/invoice/invoice-lines\", key=\"invoiceLines\", query=query, limit=999)"
   ]
  },
  {
   "cell_type": "code",
   "execution_count": 8,
   "id": "410ee157-7a9a-4671-8014-b757e83233a9",
   "metadata": {},
   "outputs": [
    {
     "name": "stdout",
     "output_type": "stream",
     "text": [
      "20\n",
      "['798596da-12a6-4c6d-8d3a-3bb6c54cb2f1', '7a5888fe-689b-4cfe-a27d-c2675a235203', 'e8cef55e-2bdc-4c1c-980d-3c66e493798b', 'be0af62c-665e-4178-ae13-e3250d89bcc6', '13e05f54-343e-4daf-acf9-3ae6fc66f5e1', 'd55342ce-0a33-4aa2-87c6-5ad6e1a12b75', '5dc4cfb3-a86f-4cfe-86f9-949fbe84aa17', '2fb3c6ce-4541-4c19-8e16-d8ed6dd7a9f9', 'c18b9e40-ad39-40dd-b918-1bd2b999fdaf', '9047a74c-1057-4ddb-b52d-d01429b0b450', 'c18b9e40-ad39-40dd-b918-1bd2b999fdaf', '13e05f54-343e-4daf-acf9-3ae6fc66f5e1', 'e399f1e9-6d10-4116-98d4-e7d192a00e57', 'e8cef55e-2bdc-4c1c-980d-3c66e493798b', '1d45bbb7-63e1-47e9-9b45-75a06f2c7590', '24491205-2f0c-4034-bdbb-f715d0410780', '39bbf04f-e729-4681-b805-bff3e4b933ac', '87319dc7-a5ea-4380-9b99-b02ec15638ed', 'c3159ebb-7d49-4eee-933a-7a63636e4750', '08ad0d3a-a906-4bf7-8dc5-28cf3964daae']\n"
     ]
    }
   ],
   "source": [
    "invoices_query_po_lines = []\n",
    "for x in invoice_lines:\n",
    "    invoice_line_id = x['id']\n",
    "    invoice_line = folio_client.folio_get(f\"/invoice/invoice-lines/{invoice_line_id}\")\n",
    "    # print(invoice_line)\n",
    "    po_line_id = invoice_line.get('poLineId')\n",
    "    if po_line_id is not None:\n",
    "        invoices_query_po_lines.append(po_line_id)\n",
    "\n",
    "print(len(invoices_query_po_lines))\n",
    "print(invoices_query_po_lines)\n",
    "    "
   ]
  },
  {
   "cell_type": "markdown",
   "id": "dacb21bd-a0eb-4661-b4f4-f15a45dfdd0c",
   "metadata": {},
   "source": [
    "There really should not be a difference in the number of po lines we get from querying the transactions endpoint versus the invoice lines endpoint. If there is, then it is likely the query is not being passed correctly to okapi."
   ]
  },
  {
   "cell_type": "code",
   "execution_count": 9,
   "id": "ee21aa36-de8a-4c58-9487-cf5df4ebdc4c",
   "metadata": {},
   "outputs": [
    {
     "name": "stdout",
     "output_type": "stream",
     "text": [
      "PO Lines from paid transactions via invoice lines: ['08ad0d3a-a906-4bf7-8dc5-28cf3964daae', '13e05f54-343e-4daf-acf9-3ae6fc66f5e1', '1d45bbb7-63e1-47e9-9b45-75a06f2c7590', '24491205-2f0c-4034-bdbb-f715d0410780', '2fb3c6ce-4541-4c19-8e16-d8ed6dd7a9f9', '39bbf04f-e729-4681-b805-bff3e4b933ac', '5dc4cfb3-a86f-4cfe-86f9-949fbe84aa17', '798596da-12a6-4c6d-8d3a-3bb6c54cb2f1', '7a5888fe-689b-4cfe-a27d-c2675a235203', '87319dc7-a5ea-4380-9b99-b02ec15638ed', '9047a74c-1057-4ddb-b52d-d01429b0b450', 'be0af62c-665e-4178-ae13-e3250d89bcc6', 'c18b9e40-ad39-40dd-b918-1bd2b999fdaf', 'c18b9e40-ad39-40dd-b918-1bd2b999fdaf', 'c3159ebb-7d49-4eee-933a-7a63636e4750', 'd55342ce-0a33-4aa2-87c6-5ad6e1a12b75', 'e399f1e9-6d10-4116-98d4-e7d192a00e57', 'e8cef55e-2bdc-4c1c-980d-3c66e493798b']\n",
      "PO Lines from paid invoices' invoice lines: ['08ad0d3a-a906-4bf7-8dc5-28cf3964daae', '13e05f54-343e-4daf-acf9-3ae6fc66f5e1', '13e05f54-343e-4daf-acf9-3ae6fc66f5e1', '1d45bbb7-63e1-47e9-9b45-75a06f2c7590', '24491205-2f0c-4034-bdbb-f715d0410780', '2fb3c6ce-4541-4c19-8e16-d8ed6dd7a9f9', '39bbf04f-e729-4681-b805-bff3e4b933ac', '5dc4cfb3-a86f-4cfe-86f9-949fbe84aa17', '798596da-12a6-4c6d-8d3a-3bb6c54cb2f1', '7a5888fe-689b-4cfe-a27d-c2675a235203', '87319dc7-a5ea-4380-9b99-b02ec15638ed', '9047a74c-1057-4ddb-b52d-d01429b0b450', 'be0af62c-665e-4178-ae13-e3250d89bcc6', 'c18b9e40-ad39-40dd-b918-1bd2b999fdaf', 'c18b9e40-ad39-40dd-b918-1bd2b999fdaf', 'c3159ebb-7d49-4eee-933a-7a63636e4750', 'd55342ce-0a33-4aa2-87c6-5ad6e1a12b75', 'e399f1e9-6d10-4116-98d4-e7d192a00e57', 'e8cef55e-2bdc-4c1c-980d-3c66e493798b', 'e8cef55e-2bdc-4c1c-980d-3c66e493798b']\n",
      "[]\n",
      "[]\n"
     ]
    }
   ],
   "source": [
    "print(\"PO Lines from paid transactions via invoice lines:\", sorted(transactions_query_po_lines))\n",
    "print(\"PO Lines from paid invoices' invoice lines:\", sorted(invoices_query_po_lines))\n",
    "def diff(first, second):\n",
    "        second = set(second)\n",
    "        return [item for item in first if item not in second]\n",
    "\n",
    "additional_po_lines_from_transactions = diff(transactions_query_po_lines, invoices_query_po_lines)\n",
    "print(additional_po_lines_from_transactions)\n",
    "additional_po_lines_from_invoice_lines = diff(invoices_query_po_lines, transactions_query_po_lines)\n",
    "print(additional_po_lines_from_invoice_lines)"
   ]
  },
  {
   "cell_type": "markdown",
   "id": "f443ffdc-1d48-4953-8208-7540ae1cec27",
   "metadata": {},
   "source": [
    "## Get the instance ID from PO lines\n",
    "Some of the po lines don't have an instance ID because they are for a package. Example: https://folio.stanford.edu/orders/lines/view/9047a74c-1057-4ddb-b52d-d01429b0b450?limit=50&offset=0&qindex=poLineNumber&query=55487-1\n",
    "\n",
    "Outstanding question about what to do with these (report out?)."
   ]
  },
  {
   "cell_type": "code",
   "execution_count": 10,
   "id": "156bae17-93ef-4182-af24-7006fbbaa84d",
   "metadata": {},
   "outputs": [
    {
     "name": "stdout",
     "output_type": "stream",
     "text": [
      "242c6000-8485-5fcd-9b5e-adb60788ca59\n",
      "0a97a746-87ce-58f1-bb61-ffe47b39aff8\n",
      "772fe534-028f-5579-b2b0-7079f404cd88\n",
      "a5a1b279-1a00-5af2-9bbb-b5657fa15078\n",
      "06660d4f-982d-54e8-b34c-532c268868e1\n",
      "0410d399-b34d-5830-85d5-ce815dbb3c5d\n",
      "98f6a7fa-21af-5b08-834b-3f7e97457834\n",
      "0991463f-5be0-544b-a827-ffc628594a50\n",
      "1cb88f99-5c59-55e8-a834-e45a6a95f778\n",
      "PO Line 55487-1 not linked to a folio Instance record.\n",
      "1cb88f99-5c59-55e8-a834-e45a6a95f778\n",
      "06660d4f-982d-54e8-b34c-532c268868e1\n",
      "947cd292-a543-5ba7-b5b2-59f9e2523b1e\n",
      "772fe534-028f-5579-b2b0-7079f404cd88\n",
      "7a465bf3-ab73-4c30-bd7b-28a7905a5b3e\n",
      "e361da4f-5fbe-53d8-9fdc-7bb6ab378490\n",
      "2816efec-41a1-4d79-803a-95769f33be09\n",
      "857421b8-5704-43b2-99fd-3a5f285b3f9e\n",
      "7327db79-7f3c-42e1-9614-afe9ed1ca2a3\n",
      "8fcdaf3b-808e-4fde-8fa4-d3ad58363c7f\n"
     ]
    }
   ],
   "source": [
    "instances = []\n",
    "for x in invoices_query_po_lines:\n",
    "    order_line = folio_client.folio_get(f\"/orders/order-lines/{x}\")\n",
    "    instance_id = order_line.get('instanceId')\n",
    "    if instance_id is None:\n",
    "        print(f\"PO Line {order_line['poLineNumber']} not linked to a folio Instance record.\")\n",
    "    else:\n",
    "        print(instance_id)\n",
    "        instances.append(instance_id)\n",
    "\n"
   ]
  },
  {
   "cell_type": "markdown",
   "id": "e8efe8f4-d52e-4cdd-a9ea-2fc72ba04be6",
   "metadata": {},
   "source": [
    "**Get the MARC for each instance to do a PUT to add 979**\n",
    "\n",
    "Outstanding question: will the 979 be added to the marc-bib mapping for updating the instance json?\n",
    "\n",
    "We probably could refactor the [OCLCAPIWrapper class](https://github.com/sul-dlss/libsys-airflow/blob/d6b6f1c2b7b0db4b231520edd92ef814bccd3932/libsys_airflow/plugins/data_exports/oclc_api.py#L75) to do a GET to change-manager/parsedRecords since it will give us the data we need to do a PUT (SRS record ID, instance hrid). There is a relatedRecordVersion field from change-manager/parsedRecords that should be the instance version (for optimistic locking) but I think it is a new field and we do not have it populated in our data at that endpoint. It is a required field so we need to get it from inventory/instances."
   ]
  },
  {
   "cell_type": "code",
   "execution_count": 11,
   "id": "18d6190f-a5f7-4bdb-a48d-fdcc7145fee3",
   "metadata": {},
   "outputs": [
    {
     "name": "stdout",
     "output_type": "stream",
     "text": [
      "id: 589e1cd5-bf64-5724-bce7-82dc13a033fe\n",
      "instance id: 242c6000-8485-5fcd-9b5e-adb60788ca59\n",
      "instance hrid: a470860\n",
      "record state: ACTUAL\n",
      "version: 4\n",
      "979 fields: [{'979': {'ind1': ' ', 'ind2': ' ', 'subfields': [{'f': 'ABBOTT'}, {'b': 'druid:ws066yy0421'}, {'c': 'ws066yy0421_00_0001.jp2'}, {'d': 'The The Donald P. Abbott Fund for Marine Invertebrates'}]}}]\n",
      "id: e51ece5e-d620-5227-babf-c32024751f6b\n",
      "instance id: 0a97a746-87ce-58f1-bb61-ffe47b39aff8\n",
      "instance hrid: a358123\n",
      "record state: ACTUAL\n",
      "version: 3\n",
      "979 fields: [{'979': {'ind1': ' ', 'ind2': ' ', 'subfields': [{'f': 'ABBOTT'}, {'b': 'druid:ws066yy0421'}, {'c': 'ws066yy0421_00_0001.jp2'}, {'d': 'The The Donald P. Abbott Fund for Marine Invertebrates'}]}}]\n",
      "id: 7ab8a798-5a53-5154-8d3a-ffe573b640a5\n",
      "instance id: 772fe534-028f-5579-b2b0-7079f404cd88\n",
      "instance hrid: a405027\n",
      "record state: ACTUAL\n",
      "version: 3\n",
      "979 fields: [{'979': {'ind1': ' ', 'ind2': ' ', 'subfields': [{'f': 'ABBOTT'}, {'b': 'druid:ws066yy0421'}, {'c': 'ws066yy0421_00_0001.jp2'}, {'d': 'The The Donald P. Abbott Fund for Marine Invertebrates'}]}}]\n",
      "id: c6aaa60d-bea2-5787-9c0a-ff6bf1c256ce\n",
      "instance id: a5a1b279-1a00-5af2-9bbb-b5657fa15078\n",
      "instance hrid: a366033\n",
      "record state: ACTUAL\n",
      "version: 91\n",
      "979 fields: [{'979': {'ind1': ' ', 'ind2': ' ', 'subfields': [{'f': 'ABBOTT'}, {'b': 'druid:ws066yy0421'}, {'c': 'ws066yy0421_00_0001.jp2'}, {'d': 'The The Donald P. Abbott Fund for Marine Invertebrates'}]}}]\n",
      "id: e60b77d3-3a76-59e2-88f7-3d1a045af3b1\n",
      "instance id: 06660d4f-982d-54e8-b34c-532c268868e1\n",
      "instance hrid: a477973\n",
      "record state: ACTUAL\n",
      "version: 3\n",
      "979 fields: [{'979': {'ind1': ' ', 'ind2': ' ', 'subfields': [{'f': 'ABBOTT'}, {'b': 'druid:ws066yy0421'}, {'c': 'ws066yy0421_00_0001.jp2'}, {'d': 'The The Donald P. Abbott Fund for Marine Invertebrates'}]}}]\n",
      "id: ba6c4f9f-37f4-5016-b94c-3bc4f443531a\n",
      "instance id: 0410d399-b34d-5830-85d5-ce815dbb3c5d\n",
      "instance hrid: a368142\n",
      "record state: ACTUAL\n",
      "version: 4\n",
      "979 fields: [{'979': {'ind1': ' ', 'ind2': ' ', 'subfields': [{'f': 'ABBOTT'}, {'b': 'druid:ws066yy0421'}, {'c': 'ws066yy0421_00_0001.jp2'}, {'d': 'The The Donald P. Abbott Fund for Marine Invertebrates'}]}}]\n",
      "id: 5ccb2457-86bd-5d88-9ace-61252dc11fcb\n",
      "instance id: 98f6a7fa-21af-5b08-834b-3f7e97457834\n",
      "instance hrid: a370870\n",
      "record state: ACTUAL\n",
      "version: 89\n",
      "979 fields: [{'979': {'ind1': ' ', 'ind2': ' ', 'subfields': [{'f': 'ABBOTT'}, {'b': 'druid:ws066yy0421'}, {'c': 'ws066yy0421_00_0001.jp2'}, {'d': 'The The Donald P. Abbott Fund for Marine Invertebrates'}]}}]\n",
      "id: f3e32672-8bf7-5bf1-86fc-d1cc9e572b1c\n",
      "instance id: 0991463f-5be0-544b-a827-ffc628594a50\n",
      "instance hrid: a13234007\n",
      "record state: ACTUAL\n",
      "version: 12\n",
      "979 fields: [{'979': {'ind1': ' ', 'ind2': ' ', 'subfields': [{'f': 'ABBOTT'}, {'b': 'druid:ws066yy0421'}, {'c': 'ws066yy0421_00_0001.jp2'}, {'d': 'The The Donald P. Abbott Fund for Marine Invertebrates'}]}}]\n",
      "id: f20461ed-aefb-598e-a05c-b1665ae91e31\n",
      "instance id: 1cb88f99-5c59-55e8-a834-e45a6a95f778\n",
      "instance hrid: a594357\n",
      "record state: ACTUAL\n",
      "version: 11\n",
      "979 fields: [{'979': {'ind1': ' ', 'ind2': ' ', 'subfields': [{'f': 'ABBOTT'}, {'b': 'druid:ws066yy0421'}, {'c': 'ws066yy0421_00_0001.jp2'}, {'d': 'The The Donald P. Abbott Fund for Marine Invertebrates'}]}}]\n",
      "id: f20461ed-aefb-598e-a05c-b1665ae91e31\n",
      "instance id: 1cb88f99-5c59-55e8-a834-e45a6a95f778\n",
      "instance hrid: a594357\n",
      "record state: ACTUAL\n",
      "version: 11\n",
      "979 fields: [{'979': {'ind1': ' ', 'ind2': ' ', 'subfields': [{'f': 'ABBOTT'}, {'b': 'druid:ws066yy0421'}, {'c': 'ws066yy0421_00_0001.jp2'}, {'d': 'The The Donald P. Abbott Fund for Marine Invertebrates'}]}}]\n",
      "id: e60b77d3-3a76-59e2-88f7-3d1a045af3b1\n",
      "instance id: 06660d4f-982d-54e8-b34c-532c268868e1\n",
      "instance hrid: a477973\n",
      "record state: ACTUAL\n",
      "version: 3\n",
      "979 fields: [{'979': {'ind1': ' ', 'ind2': ' ', 'subfields': [{'f': 'ABBOTT'}, {'b': 'druid:ws066yy0421'}, {'c': 'ws066yy0421_00_0001.jp2'}, {'d': 'The The Donald P. Abbott Fund for Marine Invertebrates'}]}}]\n",
      "id: f4576ea8-08e3-513c-a70c-13610d20c3bb\n",
      "instance id: 947cd292-a543-5ba7-b5b2-59f9e2523b1e\n",
      "instance hrid: a8120961\n",
      "record state: ACTUAL\n",
      "version: 4\n",
      "979 fields: [{'979': {'ind1': ' ', 'ind2': ' ', 'subfields': [{'f': 'ABBOTT'}, {'b': 'druid:ws066yy0421'}, {'c': 'ws066yy0421_00_0001.jp2'}, {'d': 'The The Donald P. Abbott Fund for Marine Invertebrates'}]}}]\n",
      "id: 7ab8a798-5a53-5154-8d3a-ffe573b640a5\n",
      "instance id: 772fe534-028f-5579-b2b0-7079f404cd88\n",
      "instance hrid: a405027\n",
      "record state: ACTUAL\n",
      "version: 3\n",
      "979 fields: [{'979': {'ind1': ' ', 'ind2': ' ', 'subfields': [{'f': 'ABBOTT'}, {'b': 'druid:ws066yy0421'}, {'c': 'ws066yy0421_00_0001.jp2'}, {'d': 'The The Donald P. Abbott Fund for Marine Invertebrates'}]}}]\n",
      "id: f7f818aa-41da-4071-9197-39e0fcf3fd59\n",
      "instance id: 7a465bf3-ab73-4c30-bd7b-28a7905a5b3e\n",
      "instance hrid: in00000065295\n",
      "record state: ACTUAL\n",
      "version: 8\n",
      "979 fields: [None]\n",
      "id: 6c1343f4-e306-5d78-a226-6ffa0ded0b80\n",
      "instance id: e361da4f-5fbe-53d8-9fdc-7bb6ab378490\n",
      "instance hrid: a14374132\n",
      "record state: ACTUAL\n",
      "version: 14\n",
      "979 fields: [None]\n",
      "id: 4e45c5fc-719a-4b4e-a8f3-324558aee728\n",
      "instance id: 2816efec-41a1-4d79-803a-95769f33be09\n",
      "instance hrid: in00000093955\n",
      "record state: ACTUAL\n",
      "version: 7\n",
      "979 fields: [None]\n",
      "id: 7e53c11d-d562-4a80-93b5-1992ad0549fe\n",
      "instance id: 857421b8-5704-43b2-99fd-3a5f285b3f9e\n",
      "instance hrid: in00000093948\n",
      "record state: ACTUAL\n",
      "version: 15\n",
      "979 fields: [None]\n",
      "id: 3cff0ac6-a3a6-4936-ad42-224af85e05fb\n",
      "instance id: 7327db79-7f3c-42e1-9614-afe9ed1ca2a3\n",
      "instance hrid: in00000093946\n",
      "record state: ACTUAL\n",
      "version: 12\n",
      "979 fields: [None]\n",
      "id: 09cccdf7-f595-4757-8ebc-490286d5e3b5\n",
      "instance id: 8fcdaf3b-808e-4fde-8fa4-d3ad58363c7f\n",
      "instance hrid: in00000093972\n",
      "record state: ACTUAL\n",
      "version: 15\n",
      "979 fields: [None]\n"
     ]
    }
   ],
   "source": [
    "for instance_id in instances:\n",
    "    instance_version = folio_client.folio_get(f\"/inventory/instances/{instance_id}\").get('_version')\n",
    "    query = {'externalId': f\"{instance_id}\"}\n",
    "    parsed_record = folio_client.folio_get(\"/change-manager/parsedRecords\", query_params=query)\n",
    "    record_fields = parsed_record['parsedRecord']['content']['fields']\n",
    "    record_979s = []\n",
    "    field_979 = next((field for field in record_fields if field.get('979')), None)\n",
    "    record_979s.append(field_979)\n",
    "    print(f\"id: {parsed_record['id']}\", f\"instance id: {parsed_record['externalIdsHolder']['instanceId']}\", f\"instance hrid: {parsed_record['externalIdsHolder']['instanceHrid']}\", f\"record state: {parsed_record['recordState']}\", f\"version: {parsed_record.get('relatedRecordVersion', instance_version)}\", f\"979 fields: {record_979s}\", sep=\"\\n\")"
   ]
  }
 ],
 "metadata": {
  "kernelspec": {
   "display_name": "Python 3 (ipykernel)",
   "language": "python",
   "name": "python3"
  },
  "language_info": {
   "codemirror_mode": {
    "name": "ipython",
    "version": 3
   },
   "file_extension": ".py",
   "mimetype": "text/x-python",
   "name": "python",
   "nbconvert_exporter": "python",
   "pygments_lexer": "ipython3",
   "version": "3.11.7"
  }
 },
 "nbformat": 4,
 "nbformat_minor": 5
}
